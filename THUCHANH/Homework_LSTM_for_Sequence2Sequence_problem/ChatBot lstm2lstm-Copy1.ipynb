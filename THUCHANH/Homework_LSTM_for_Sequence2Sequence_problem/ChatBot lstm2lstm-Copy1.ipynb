{
 "cells": [
  {
   "cell_type": "code",
   "execution_count": null,
   "id": "d32b7d3d",
   "metadata": {},
   "outputs": [],
   "source": [
    "#Chatbot"
   ]
  },
  {
   "cell_type": "code",
   "execution_count": 1,
   "id": "a22e7f8f",
   "metadata": {},
   "outputs": [
    {
     "name": "stderr",
     "output_type": "stream",
     "text": [
      "2024-03-08 11:15:15.142017: I tensorflow/core/platform/cpu_feature_guard.cc:182] This TensorFlow binary is optimized to use available CPU instructions in performance-critical operations.\n",
      "To enable the following instructions: AVX2 FMA, in other operations, rebuild TensorFlow with the appropriate compiler flags.\n"
     ]
    }
   ],
   "source": [
    "import numpy as np \n",
    "import tensorflow as tf\n",
    "import pickle\n",
    "from tensorflow.keras import layers, activations, models, preprocessing, utils"
   ]
  },
  {
   "cell_type": "code",
   "execution_count": 4,
   "id": "71843977",
   "metadata": {},
   "outputs": [],
   "source": [
    "import pandas as pd\n",
    "df = pd.read_csv('chatbot.csv')\n"
   ]
  },
  {
   "cell_type": "code",
   "execution_count": 5,
   "id": "14fc196d",
   "metadata": {},
   "outputs": [
    {
     "name": "stdout",
     "output_type": "stream",
     "text": [
      "['have you read the communist', 'what is a government']\n",
      "['yes, marx had made some interesting observations.', 'ideally it is a representative of the people.']\n"
     ]
    }
   ],
   "source": [
    "questions = list(df['question'])\n",
    "answers = list(df['answer'])\n",
    "print(questions[:2])\n",
    "print(answers[:2])"
   ]
  },
  {
   "cell_type": "code",
   "execution_count": 6,
   "id": "7310be14",
   "metadata": {},
   "outputs": [
    {
     "name": "stdout",
     "output_type": "stream",
     "text": [
      "VOCAB SIZE : 1589\n"
     ]
    }
   ],
   "source": [
    "tokenizer = preprocessing.text.Tokenizer()\n",
    "tokenizer.fit_on_texts( ['start']+questions + answers )\n",
    "VOCAB_SIZE = len( tokenizer.word_index )+1\n",
    "print( 'VOCAB SIZE : {}'.format( VOCAB_SIZE ))"
   ]
  },
  {
   "cell_type": "markdown",
   "id": "02dfa31e",
   "metadata": {},
   "source": [
    "Preparing data for Seq2Seq model\n",
    "This model requires 3 arrays encoder_input_data, decoder_input_data and decoder_output_data.\n",
    "\n",
    "For encoder_input_data: Tokensize the Questions and Pad them to their maximum Length.\n",
    "\n",
    "For decoder_input_data: Tokensize the Answers and Pad them to their maximum Length.\n",
    "\n",
    "For decoder_output_data: Tokensize the Answers and Remove the 1st element from all the tokenized_answers. This is the element which was added earlier."
   ]
  },
  {
   "cell_type": "code",
   "execution_count": 7,
   "id": "fdca1c7a",
   "metadata": {},
   "outputs": [],
   "source": [
    "from gensim.models import Word2Vec\n",
    "import re\n",
    "\n",
    "vocab = []\n",
    "for word in tokenizer.word_index:\n",
    "    vocab.append(word)\n",
    "\n",
    "def tokenize(sentences):\n",
    "    tokens_list = []\n",
    "    vocabulary = []\n",
    "    for sentence in sentences:\n",
    "        sentence = sentence.lower()\n",
    "        sentence = re.sub('[^a-zA-Z]', ' ', sentence)\n",
    "        tokens = sentence.split()\n",
    "        vocabulary += tokens\n",
    "        tokens_list.append(tokens)\n",
    "        return tokens_list, vocabulary"
   ]
  },
  {
   "cell_type": "code",
   "execution_count": 8,
   "id": "01358c78",
   "metadata": {},
   "outputs": [
    {
     "name": "stdout",
     "output_type": "stream",
     "text": [
      "(566, 15) 15\n",
      "[ 21   1  57   5 635   0   0   0   0   0   0   0   0   0   0]\n"
     ]
    }
   ],
   "source": [
    "#encoder_input_data\n",
    "tokenized_questions = tokenizer.texts_to_sequences( questions )\n",
    "maxlen_questions = max( [len(x) for x in tokenized_questions ] )\n",
    "padded_questions = preprocessing.sequence.pad_sequences( tokenized_questions, maxlen = maxlen_questions, padding = 'post')\n",
    "encoder_input_data = np.array(padded_questions)\n",
    "print(encoder_input_data.shape, maxlen_questions)\n",
    "print(encoder_input_data[0])\n",
    "     "
   ]
  },
  {
   "cell_type": "code",
   "execution_count": 73,
   "id": "ef49f500",
   "metadata": {},
   "outputs": [
    {
     "name": "stdout",
     "output_type": "stream",
     "text": [
      "(566, 34) 34\n",
      "[103 815 316 165  88 475 816   0   0   0   0   0   0   0   0   0   0   0\n",
      "   0   0   0   0   0   0   0   0   0   0   0   0   0   0   0   0]\n"
     ]
    }
   ],
   "source": [
    "# decoder_input_data\n",
    "tokenized_answers = tokenizer.texts_to_sequences( answers )\n",
    "maxlen_answers = max( [ len(x) for x in tokenized_answers ] )\n",
    "padded_answers = preprocessing.sequence.pad_sequences( tokenized_answers , maxlen=maxlen_answers , padding='post' )\n",
    "decoder_input_data = np.array( padded_answers )\n",
    "print( decoder_input_data.shape , maxlen_answers )\n",
    "print(decoder_input_data[0])"
   ]
  },
  {
   "cell_type": "code",
   "execution_count": 74,
   "id": "b0dca984",
   "metadata": {},
   "outputs": [
    {
     "name": "stdout",
     "output_type": "stream",
     "text": [
      "(566, 34, 1589)\n"
     ]
    }
   ],
   "source": [
    "# decoder_output_data\n",
    "tokenized_answers = tokenizer.texts_to_sequences( answers )\n",
    "for i in range(len(tokenized_answers)) :\n",
    "    tokenized_answers[i] = tokenized_answers[i][1:]\n",
    "padded_answers = preprocessing.sequence.pad_sequences( tokenized_answers , maxlen=maxlen_answers , padding='post' )\n",
    "onehot_answers = utils.to_categorical( padded_answers , VOCAB_SIZE )\n",
    "decoder_output_data = np.array( onehot_answers )\n",
    "print( decoder_output_data.shape )"
   ]
  },
  {
   "cell_type": "markdown",
   "id": "ee6b9bec",
   "metadata": {},
   "source": [
    "# Step 4: Defining Encoder Decoder Model"
   ]
  },
  {
   "cell_type": "code",
   "execution_count": 80,
   "id": "539949a0",
   "metadata": {},
   "outputs": [
    {
     "name": "stdout",
     "output_type": "stream",
     "text": [
      "Model: \"model_9\"\n",
      "__________________________________________________________________________________________________\n",
      " Layer (type)                   Output Shape         Param #     Connected to                     \n",
      "==================================================================================================\n",
      " input_13 (InputLayer)          [(None, 15)]         0           []                               \n",
      "                                                                                                  \n",
      " input_14 (InputLayer)          [(None, 34)]         0           []                               \n",
      "                                                                                                  \n",
      " embedding_6 (Embedding)        (None, 15, 200)      317800      ['input_13[0][0]']               \n",
      "                                                                                                  \n",
      " embedding_7 (Embedding)        (None, 34, 200)      317800      ['input_14[0][0]']               \n",
      "                                                                                                  \n",
      " lstm_6 (LSTM)                  [(None, 200),        320800      ['embedding_6[0][0]']            \n",
      "                                 (None, 200),                                                     \n",
      "                                 (None, 200)]                                                     \n",
      "                                                                                                  \n",
      " lstm_7 (LSTM)                  [(None, 34, 200),    320800      ['embedding_7[0][0]',            \n",
      "                                 (None, 200),                     'lstm_6[0][1]',                 \n",
      "                                 (None, 200)]                     'lstm_6[0][2]']                 \n",
      "                                                                                                  \n",
      " dense_3 (Dense)                (None, 34, 1589)     319389      ['lstm_7[0][0]']                 \n",
      "                                                                                                  \n",
      "==================================================================================================\n",
      "Total params: 1,596,589\n",
      "Trainable params: 1,596,589\n",
      "Non-trainable params: 0\n",
      "__________________________________________________________________________________________________\n"
     ]
    }
   ],
   "source": [
    "encoder_inputs = tf.keras.layers.Input(shape=( maxlen_questions , ))\n",
    "encoder_embedding = tf.keras.layers.Embedding( VOCAB_SIZE, 200 , mask_zero=True ) (encoder_inputs)\n",
    "encoder_outputs , state_h , state_c = tf.keras.layers.LSTM( 200 , return_state=True )( encoder_embedding )\n",
    "encoder_states = [ state_h , state_c ]\n",
    "\n",
    "decoder_inputs = tf.keras.layers.Input(shape=( maxlen_answers ,  ))\n",
    "decoder_embedding = tf.keras.layers.Embedding( VOCAB_SIZE, 200 , mask_zero=True) (decoder_inputs)\n",
    "decoder_lstm = tf.keras.layers.LSTM( 200 , return_state=True , return_sequences=True )\n",
    "decoder_outputs , _ , _ = decoder_lstm ( decoder_embedding , initial_state=encoder_states )\n",
    "decoder_dense = tf.keras.layers.Dense( VOCAB_SIZE , activation=tf.keras.activations.softmax ) \n",
    "output = decoder_dense ( decoder_outputs )\n",
    "\n",
    "model = tf.keras.models.Model([encoder_inputs, decoder_inputs], output )\n",
    "model.compile(optimizer=tf.keras.optimizers.RMSprop(), loss='categorical_crossentropy')\n",
    "\n",
    "model.summary()"
   ]
  },
  {
   "cell_type": "markdown",
   "id": "737894dd",
   "metadata": {},
   "source": [
    "# Step 5: Training the Model"
   ]
  },
  {
   "cell_type": "code",
   "execution_count": 81,
   "id": "38a91bf5",
   "metadata": {},
   "outputs": [
    {
     "name": "stdout",
     "output_type": "stream",
     "text": [
      "Epoch 1/100\n",
      "12/12 [==============================] - 8s 138ms/step - loss: 1.6885\n",
      "Epoch 2/100\n",
      "12/12 [==============================] - 2s 137ms/step - loss: 1.4573\n",
      "Epoch 3/100\n",
      "12/12 [==============================] - 2s 139ms/step - loss: 1.4271\n",
      "Epoch 4/100\n",
      "12/12 [==============================] - 2s 155ms/step - loss: 1.4130\n",
      "Epoch 5/100\n",
      "12/12 [==============================] - 2s 144ms/step - loss: 1.3929\n",
      "Epoch 6/100\n",
      "12/12 [==============================] - 2s 151ms/step - loss: 1.3759\n",
      "Epoch 7/100\n",
      "12/12 [==============================] - 2s 154ms/step - loss: 1.3612\n",
      "Epoch 8/100\n",
      "12/12 [==============================] - 2s 154ms/step - loss: 1.3400\n",
      "Epoch 9/100\n",
      "12/12 [==============================] - 2s 144ms/step - loss: 1.3210\n",
      "Epoch 10/100\n",
      "12/12 [==============================] - 2s 174ms/step - loss: 1.3017\n",
      "Epoch 11/100\n",
      "12/12 [==============================] - 2s 141ms/step - loss: 1.2819\n",
      "Epoch 12/100\n",
      "12/12 [==============================] - 2s 186ms/step - loss: 1.2617\n",
      "Epoch 13/100\n",
      "12/12 [==============================] - 2s 156ms/step - loss: 1.2419\n",
      "Epoch 14/100\n",
      "12/12 [==============================] - 2s 200ms/step - loss: 1.2210\n",
      "Epoch 15/100\n",
      "12/12 [==============================] - 2s 172ms/step - loss: 1.2012\n",
      "Epoch 16/100\n",
      "12/12 [==============================] - 2s 151ms/step - loss: 1.1802\n",
      "Epoch 17/100\n",
      "12/12 [==============================] - 2s 146ms/step - loss: 1.1620\n",
      "Epoch 18/100\n",
      "12/12 [==============================] - 2s 187ms/step - loss: 1.1407\n",
      "Epoch 19/100\n",
      "12/12 [==============================] - 2s 162ms/step - loss: 1.1221\n",
      "Epoch 20/100\n",
      "12/12 [==============================] - 2s 152ms/step - loss: 1.1036\n",
      "Epoch 21/100\n",
      "12/12 [==============================] - 2s 147ms/step - loss: 1.0851\n",
      "Epoch 22/100\n",
      "12/12 [==============================] - 2s 153ms/step - loss: 1.0674\n",
      "Epoch 23/100\n",
      "12/12 [==============================] - 2s 150ms/step - loss: 1.0478\n",
      "Epoch 24/100\n",
      "12/12 [==============================] - 2s 206ms/step - loss: 1.0299\n",
      "Epoch 25/100\n",
      "12/12 [==============================] - 2s 169ms/step - loss: 1.0119\n",
      "Epoch 26/100\n",
      "12/12 [==============================] - 2s 177ms/step - loss: 0.9922\n",
      "Epoch 27/100\n",
      "12/12 [==============================] - 2s 150ms/step - loss: 0.9774\n",
      "Epoch 28/100\n",
      "12/12 [==============================] - 2s 146ms/step - loss: 0.9556\n",
      "Epoch 29/100\n",
      "12/12 [==============================] - 2s 144ms/step - loss: 0.9394\n",
      "Epoch 30/100\n",
      "12/12 [==============================] - 2s 167ms/step - loss: 0.9216\n",
      "Epoch 31/100\n",
      "12/12 [==============================] - 2s 144ms/step - loss: 0.9040\n",
      "Epoch 32/100\n",
      "12/12 [==============================] - 2s 140ms/step - loss: 0.8858\n",
      "Epoch 33/100\n",
      "12/12 [==============================] - 2s 141ms/step - loss: 0.8685\n",
      "Epoch 34/100\n",
      "12/12 [==============================] - 2s 147ms/step - loss: 0.8511\n",
      "Epoch 35/100\n",
      "12/12 [==============================] - 2s 139ms/step - loss: 0.8335\n",
      "Epoch 36/100\n",
      "12/12 [==============================] - 2s 147ms/step - loss: 0.8158\n",
      "Epoch 37/100\n",
      "12/12 [==============================] - 2s 153ms/step - loss: 0.7999\n",
      "Epoch 38/100\n",
      "12/12 [==============================] - 2s 138ms/step - loss: 0.7810\n",
      "Epoch 39/100\n",
      "12/12 [==============================] - 2s 158ms/step - loss: 0.7644\n",
      "Epoch 40/100\n",
      "12/12 [==============================] - 2s 179ms/step - loss: 0.7482\n",
      "Epoch 41/100\n",
      "12/12 [==============================] - 2s 176ms/step - loss: 0.7326\n",
      "Epoch 42/100\n",
      "12/12 [==============================] - 2s 146ms/step - loss: 0.7129\n",
      "Epoch 43/100\n",
      "12/12 [==============================] - 2s 155ms/step - loss: 0.6972\n",
      "Epoch 44/100\n",
      "12/12 [==============================] - 2s 142ms/step - loss: 0.6792\n",
      "Epoch 45/100\n",
      "12/12 [==============================] - 2s 155ms/step - loss: 0.6642\n",
      "Epoch 46/100\n",
      "12/12 [==============================] - 2s 207ms/step - loss: 0.6475\n",
      "Epoch 47/100\n",
      "12/12 [==============================] - 2s 172ms/step - loss: 0.6304\n",
      "Epoch 48/100\n",
      "12/12 [==============================] - 2s 164ms/step - loss: 0.6119\n",
      "Epoch 49/100\n",
      "12/12 [==============================] - 2s 177ms/step - loss: 0.5976\n",
      "Epoch 50/100\n",
      "12/12 [==============================] - 2s 207ms/step - loss: 0.5816\n",
      "Epoch 51/100\n",
      "12/12 [==============================] - 2s 191ms/step - loss: 0.5676\n",
      "Epoch 52/100\n",
      "12/12 [==============================] - 2s 157ms/step - loss: 0.5498\n",
      "Epoch 53/100\n",
      "12/12 [==============================] - 2s 152ms/step - loss: 0.5337\n",
      "Epoch 54/100\n",
      "12/12 [==============================] - 2s 153ms/step - loss: 0.5206\n",
      "Epoch 55/100\n",
      "12/12 [==============================] - 2s 158ms/step - loss: 0.5023\n",
      "Epoch 56/100\n",
      "12/12 [==============================] - 2s 157ms/step - loss: 0.4885\n",
      "Epoch 57/100\n",
      "12/12 [==============================] - 2s 153ms/step - loss: 0.4736\n",
      "Epoch 58/100\n",
      "12/12 [==============================] - 2s 147ms/step - loss: 0.4593\n",
      "Epoch 59/100\n",
      "12/12 [==============================] - 2s 154ms/step - loss: 0.4461\n",
      "Epoch 60/100\n",
      "12/12 [==============================] - 2s 142ms/step - loss: 0.4293\n",
      "Epoch 61/100\n",
      "12/12 [==============================] - 2s 155ms/step - loss: 0.4179\n",
      "Epoch 62/100\n",
      "12/12 [==============================] - 2s 186ms/step - loss: 0.4032\n",
      "Epoch 63/100\n",
      "12/12 [==============================] - 2s 163ms/step - loss: 0.3883\n",
      "Epoch 64/100\n",
      "12/12 [==============================] - 2s 144ms/step - loss: 0.3776\n",
      "Epoch 65/100\n",
      "12/12 [==============================] - 2s 179ms/step - loss: 0.3641\n",
      "Epoch 66/100\n",
      "12/12 [==============================] - 2s 178ms/step - loss: 0.3518\n",
      "Epoch 67/100\n",
      "12/12 [==============================] - 2s 144ms/step - loss: 0.3412\n",
      "Epoch 68/100\n",
      "12/12 [==============================] - 2s 163ms/step - loss: 0.3297\n",
      "Epoch 69/100\n",
      "12/12 [==============================] - 2s 154ms/step - loss: 0.3160\n",
      "Epoch 70/100\n",
      "12/12 [==============================] - 2s 153ms/step - loss: 0.3051\n",
      "Epoch 71/100\n",
      "12/12 [==============================] - 2s 164ms/step - loss: 0.2949\n",
      "Epoch 72/100\n",
      "12/12 [==============================] - 2s 144ms/step - loss: 0.2818\n",
      "Epoch 73/100\n",
      "12/12 [==============================] - 2s 161ms/step - loss: 0.2756\n",
      "Epoch 74/100\n",
      "12/12 [==============================] - 2s 146ms/step - loss: 0.2615\n",
      "Epoch 75/100\n",
      "12/12 [==============================] - 2s 139ms/step - loss: 0.2545\n",
      "Epoch 76/100\n",
      "12/12 [==============================] - 2s 146ms/step - loss: 0.2421\n",
      "Epoch 77/100\n",
      "12/12 [==============================] - 2s 170ms/step - loss: 0.2358\n",
      "Epoch 78/100\n",
      "12/12 [==============================] - 2s 172ms/step - loss: 0.2250\n",
      "Epoch 79/100\n",
      "12/12 [==============================] - 2s 177ms/step - loss: 0.2171\n",
      "Epoch 80/100\n",
      "12/12 [==============================] - 2s 139ms/step - loss: 0.2063\n",
      "Epoch 81/100\n",
      "12/12 [==============================] - 2s 142ms/step - loss: 0.2012\n",
      "Epoch 82/100\n",
      "12/12 [==============================] - 2s 145ms/step - loss: 0.1908\n",
      "Epoch 83/100\n",
      "12/12 [==============================] - 2s 155ms/step - loss: 0.1839\n",
      "Epoch 84/100\n",
      "12/12 [==============================] - 2s 145ms/step - loss: 0.1755\n",
      "Epoch 85/100\n",
      "12/12 [==============================] - 2s 141ms/step - loss: 0.1705\n",
      "Epoch 86/100\n",
      "12/12 [==============================] - 2s 140ms/step - loss: 0.1613\n",
      "Epoch 87/100\n",
      "12/12 [==============================] - 2s 141ms/step - loss: 0.1529\n",
      "Epoch 88/100\n",
      "12/12 [==============================] - 2s 138ms/step - loss: 0.1473\n",
      "Epoch 89/100\n",
      "12/12 [==============================] - 2s 137ms/step - loss: 0.1423\n",
      "Epoch 90/100\n",
      "12/12 [==============================] - 2s 136ms/step - loss: 0.1362\n",
      "Epoch 91/100\n",
      "12/12 [==============================] - 2s 143ms/step - loss: 0.1291\n",
      "Epoch 92/100\n",
      "12/12 [==============================] - 2s 148ms/step - loss: 0.1247\n",
      "Epoch 93/100\n",
      "12/12 [==============================] - 2s 150ms/step - loss: 0.1186\n",
      "Epoch 94/100\n",
      "12/12 [==============================] - 2s 155ms/step - loss: 0.1135\n",
      "Epoch 95/100\n",
      "12/12 [==============================] - 2s 152ms/step - loss: 0.1077\n",
      "Epoch 96/100\n",
      "12/12 [==============================] - 2s 137ms/step - loss: 0.1043\n",
      "Epoch 97/100\n",
      "12/12 [==============================] - 2s 148ms/step - loss: 0.0996\n",
      "Epoch 98/100\n",
      "12/12 [==============================] - 2s 140ms/step - loss: 0.0943\n",
      "Epoch 99/100\n",
      "12/12 [==============================] - 2s 144ms/step - loss: 0.0894\n",
      "Epoch 100/100\n",
      "12/12 [==============================] - 2s 141ms/step - loss: 0.0870\n"
     ]
    },
    {
     "data": {
      "text/plain": [
       "<keras.callbacks.History at 0x7fbf8d51ba60>"
      ]
     },
     "execution_count": 81,
     "metadata": {},
     "output_type": "execute_result"
    }
   ],
   "source": [
    "model.fit([encoder_input_data , decoder_input_data], decoder_output_data, batch_size=50, epochs=100 ) \n",
    "#model.save( 'model.h5' )"
   ]
  },
  {
   "cell_type": "code",
   "execution_count": 77,
   "id": "0130ae37",
   "metadata": {},
   "outputs": [],
   "source": [
    "def make_inference_models():\n",
    "    \n",
    "    encoder_model = tf.keras.models.Model(encoder_inputs, encoder_states)\n",
    "    \n",
    "    decoder_state_input_h = tf.keras.layers.Input(shape=( 200 ,))\n",
    "    decoder_state_input_c = tf.keras.layers.Input(shape=( 200 ,))\n",
    "    \n",
    "    decoder_states_inputs = [decoder_state_input_h, decoder_state_input_c]\n",
    "    \n",
    "    decoder_outputs, state_h, state_c = decoder_lstm(\n",
    "        decoder_embedding , initial_state=decoder_states_inputs)\n",
    "    \n",
    "    decoder_states = [state_h, state_c]\n",
    "\n",
    "    decoder_outputs = decoder_dense(decoder_outputs)\n",
    "    \n",
    "    decoder_model = tf.keras.models.Model(\n",
    "        [decoder_inputs] + decoder_states_inputs,\n",
    "        [decoder_outputs] + decoder_states)\n",
    "    \n",
    "    return encoder_model , decoder_model\n",
    "     "
   ]
  },
  {
   "cell_type": "markdown",
   "id": "8f014b57",
   "metadata": {},
   "source": [
    "Talking with the Chatbot\n",
    "define a method str_to_tokens which converts str questions to Integer tokens with padding.\n",
    "\n",
    "First, we take a question as input and predict the state values using enc_model.\n",
    "We set the state values in the decoder's LSTM.\n",
    "Then, we generate a sequence which contains the element.\n",
    "We input this sequence in the dec_model.\n",
    "We replace the element with the element which was predicted by the dec_model and update the state values.\n",
    "We carry out the above steps iteratively till we hit the tag or the maximum answer length."
   ]
  },
  {
   "cell_type": "code",
   "execution_count": 78,
   "id": "5b4e0c32",
   "metadata": {},
   "outputs": [],
   "source": [
    "def str_to_tokens( sentence : str ):\n",
    "\n",
    "    words = sentence.lower().split()\n",
    "    tokens_list = list()\n",
    "  \n",
    "    for word in words:\n",
    "        tokens_list.append( tokenizer.word_index[ word ] ) \n",
    "    return preprocessing.sequence.pad_sequences( [tokens_list] , maxlen=maxlen_questions , padding='post')"
   ]
  },
  {
   "cell_type": "code",
   "execution_count": 82,
   "id": "2c1f2bce",
   "metadata": {},
   "outputs": [
    {
     "name": "stdout",
     "output_type": "stream",
     "text": [
      "Enter question : what is your name\n",
      "1/1 [==============================] - 1s 1s/step\n",
      "WARNING:tensorflow:Model was constructed with shape (None, 34) for input KerasTensor(type_spec=TensorSpec(shape=(None, 34), dtype=tf.float32, name='input_14'), name='input_14', description=\"created by layer 'input_14'\"), but it was called on an input with incompatible shape (None, 1).\n",
      "1/1 [==============================] - 1s 1s/step\n",
      "1/1 [==============================] - 0s 20ms/step\n",
      "1/1 [==============================] - 0s 19ms/step\n",
      "1/1 [==============================] - 0s 20ms/step\n",
      "1/1 [==============================] - 0s 20ms/step\n",
      "1/1 [==============================] - 0s 19ms/step\n",
      "1/1 [==============================] - 0s 19ms/step\n",
      "1/1 [==============================] - 0s 19ms/step\n",
      "1/1 [==============================] - 0s 19ms/step\n",
      "1/1 [==============================] - 0s 19ms/step\n",
      "1/1 [==============================] - 0s 19ms/step\n",
      "1/1 [==============================] - 0s 19ms/step\n",
      "1/1 [==============================] - 0s 20ms/step\n",
      "1/1 [==============================] - 0s 20ms/step\n",
      "1/1 [==============================] - 0s 21ms/step\n",
      "1/1 [==============================] - 0s 20ms/step\n",
      "1/1 [==============================] - 0s 20ms/step\n",
      "1/1 [==============================] - 0s 20ms/step\n",
      "1/1 [==============================] - 0s 20ms/step\n",
      "1/1 [==============================] - 0s 21ms/step\n",
      "1/1 [==============================] - 0s 21ms/step\n",
      "1/1 [==============================] - 0s 21ms/step\n",
      "1/1 [==============================] - 0s 20ms/step\n",
      "1/1 [==============================] - 0s 21ms/step\n",
      "1/1 [==============================] - 0s 20ms/step\n",
      "1/1 [==============================] - 0s 21ms/step\n",
      "1/1 [==============================] - 0s 21ms/step\n",
      "1/1 [==============================] - 0s 21ms/step\n",
      "1/1 [==============================] - 0s 20ms/step\n",
      "1/1 [==============================] - 0s 19ms/step\n",
      "1/1 [==============================] - 0s 20ms/step\n",
      "1/1 [==============================] - 0s 19ms/step\n",
      "1/1 [==============================] - 0s 20ms/step\n",
      "1/1 [==============================] - 0s 20ms/step\n",
      "1/1 [==============================] - 0s 18ms/step\n",
      "1/1 [==============================] - 0s 20ms/step\n",
      "1/1 [==============================] - 0s 20ms/step\n",
      "1/1 [==============================] - 0s 20ms/step\n",
      "1/1 [==============================] - 0s 20ms/step\n",
      "1/1 [==============================] - 0s 21ms/step\n",
      "1/1 [==============================] - 0s 21ms/step\n",
      "1/1 [==============================] - 0s 20ms/step\n",
      "1/1 [==============================] - 0s 20ms/step\n",
      "1/1 [==============================] - 0s 21ms/step\n",
      " is a chat robot business same you same same i can same as i can same as a resemblance as being same as being same as best same as i can be same as a\n",
      "Enter question : what is a government\n",
      "1/1 [==============================] - 0s 19ms/step\n",
      "1/1 [==============================] - 0s 19ms/step\n",
      "1/1 [==============================] - 0s 20ms/step\n",
      "1/1 [==============================] - 0s 19ms/step\n",
      "1/1 [==============================] - 0s 21ms/step\n",
      "1/1 [==============================] - 0s 19ms/step\n",
      "1/1 [==============================] - 0s 19ms/step\n",
      "1/1 [==============================] - 0s 19ms/step\n",
      "1/1 [==============================] - 0s 19ms/step\n",
      "1/1 [==============================] - 0s 19ms/step\n",
      "1/1 [==============================] - 0s 19ms/step\n",
      "1/1 [==============================] - 0s 20ms/step\n",
      "1/1 [==============================] - 0s 19ms/step\n",
      "1/1 [==============================] - 0s 19ms/step\n",
      "1/1 [==============================] - 0s 19ms/step\n",
      "1/1 [==============================] - 0s 20ms/step\n",
      "1/1 [==============================] - 0s 19ms/step\n",
      "1/1 [==============================] - 0s 19ms/step\n",
      "1/1 [==============================] - 0s 19ms/step\n",
      "1/1 [==============================] - 0s 19ms/step\n",
      "1/1 [==============================] - 0s 20ms/step\n",
      "1/1 [==============================] - 0s 21ms/step\n",
      "1/1 [==============================] - 0s 20ms/step\n",
      "1/1 [==============================] - 0s 21ms/step\n",
      "1/1 [==============================] - 0s 21ms/step\n",
      "1/1 [==============================] - 0s 20ms/step\n",
      "1/1 [==============================] - 0s 20ms/step\n",
      "1/1 [==============================] - 0s 20ms/step\n",
      "1/1 [==============================] - 0s 21ms/step\n",
      "1/1 [==============================] - 0s 25ms/step\n",
      "1/1 [==============================] - 0s 21ms/step\n",
      "1/1 [==============================] - 0s 22ms/step\n",
      "1/1 [==============================] - 0s 21ms/step\n",
      "1/1 [==============================] - 0s 21ms/step\n",
      "1/1 [==============================] - 0s 21ms/step\n",
      "1/1 [==============================] - 0s 21ms/step\n",
      "1/1 [==============================] - 0s 20ms/step\n",
      "1/1 [==============================] - 0s 19ms/step\n",
      "1/1 [==============================] - 0s 20ms/step\n",
      "1/1 [==============================] - 0s 20ms/step\n",
      "1/1 [==============================] - 0s 20ms/step\n",
      "1/1 [==============================] - 0s 22ms/step\n",
      "1/1 [==============================] - 0s 19ms/step\n",
      "1/1 [==============================] - 0s 21ms/step\n",
      " is a hypothetical question same same i think the conversation or the study of the movies same same i can be same as gossip same same as i can same as a resemblance between us\n"
     ]
    },
    {
     "ename": "KeyboardInterrupt",
     "evalue": "Interrupted by user",
     "output_type": "error",
     "traceback": [
      "\u001b[0;31m---------------------------------------------------------------------------\u001b[0m",
      "\u001b[0;31mKeyboardInterrupt\u001b[0m                         Traceback (most recent call last)",
      "Cell \u001b[0;32mIn [82], line 4\u001b[0m\n\u001b[1;32m      1\u001b[0m enc_model , dec_model \u001b[38;5;241m=\u001b[39m make_inference_models()\n\u001b[1;32m      3\u001b[0m \u001b[38;5;28;01mfor\u001b[39;00m _ \u001b[38;5;129;01min\u001b[39;00m \u001b[38;5;28mrange\u001b[39m(\u001b[38;5;241m10\u001b[39m):\n\u001b[0;32m----> 4\u001b[0m     states_values \u001b[38;5;241m=\u001b[39m enc_model\u001b[38;5;241m.\u001b[39mpredict( str_to_tokens( \u001b[38;5;28;43minput\u001b[39;49m\u001b[43m(\u001b[49m\u001b[43m \u001b[49m\u001b[38;5;124;43m'\u001b[39;49m\u001b[38;5;124;43mEnter question : \u001b[39;49m\u001b[38;5;124;43m'\u001b[39;49m\u001b[43m \u001b[49m\u001b[43m)\u001b[49m ) )\n\u001b[1;32m      5\u001b[0m     empty_target_seq \u001b[38;5;241m=\u001b[39m np\u001b[38;5;241m.\u001b[39mzeros( ( \u001b[38;5;241m1\u001b[39m , \u001b[38;5;241m1\u001b[39m ) )\n\u001b[1;32m      6\u001b[0m     empty_target_seq[\u001b[38;5;241m0\u001b[39m, \u001b[38;5;241m0\u001b[39m] \u001b[38;5;241m=\u001b[39m tokenizer\u001b[38;5;241m.\u001b[39mword_index[\u001b[38;5;124m'\u001b[39m\u001b[38;5;124mstart\u001b[39m\u001b[38;5;124m'\u001b[39m]\n",
      "File \u001b[0;32m~/opt/anaconda3/lib/python3.9/site-packages/ipykernel/kernelbase.py:1177\u001b[0m, in \u001b[0;36mKernel.raw_input\u001b[0;34m(self, prompt)\u001b[0m\n\u001b[1;32m   1173\u001b[0m \u001b[38;5;28;01mif\u001b[39;00m \u001b[38;5;129;01mnot\u001b[39;00m \u001b[38;5;28mself\u001b[39m\u001b[38;5;241m.\u001b[39m_allow_stdin:\n\u001b[1;32m   1174\u001b[0m     \u001b[38;5;28;01mraise\u001b[39;00m StdinNotImplementedError(\n\u001b[1;32m   1175\u001b[0m         \u001b[38;5;124m\"\u001b[39m\u001b[38;5;124mraw_input was called, but this frontend does not support input requests.\u001b[39m\u001b[38;5;124m\"\u001b[39m\n\u001b[1;32m   1176\u001b[0m     )\n\u001b[0;32m-> 1177\u001b[0m \u001b[38;5;28;01mreturn\u001b[39;00m \u001b[38;5;28;43mself\u001b[39;49m\u001b[38;5;241;43m.\u001b[39;49m\u001b[43m_input_request\u001b[49m\u001b[43m(\u001b[49m\n\u001b[1;32m   1178\u001b[0m \u001b[43m    \u001b[49m\u001b[38;5;28;43mstr\u001b[39;49m\u001b[43m(\u001b[49m\u001b[43mprompt\u001b[49m\u001b[43m)\u001b[49m\u001b[43m,\u001b[49m\n\u001b[1;32m   1179\u001b[0m \u001b[43m    \u001b[49m\u001b[38;5;28;43mself\u001b[39;49m\u001b[38;5;241;43m.\u001b[39;49m\u001b[43m_parent_ident\u001b[49m\u001b[43m[\u001b[49m\u001b[38;5;124;43m\"\u001b[39;49m\u001b[38;5;124;43mshell\u001b[39;49m\u001b[38;5;124;43m\"\u001b[39;49m\u001b[43m]\u001b[49m\u001b[43m,\u001b[49m\n\u001b[1;32m   1180\u001b[0m \u001b[43m    \u001b[49m\u001b[38;5;28;43mself\u001b[39;49m\u001b[38;5;241;43m.\u001b[39;49m\u001b[43mget_parent\u001b[49m\u001b[43m(\u001b[49m\u001b[38;5;124;43m\"\u001b[39;49m\u001b[38;5;124;43mshell\u001b[39;49m\u001b[38;5;124;43m\"\u001b[39;49m\u001b[43m)\u001b[49m\u001b[43m,\u001b[49m\n\u001b[1;32m   1181\u001b[0m \u001b[43m    \u001b[49m\u001b[43mpassword\u001b[49m\u001b[38;5;241;43m=\u001b[39;49m\u001b[38;5;28;43;01mFalse\u001b[39;49;00m\u001b[43m,\u001b[49m\n\u001b[1;32m   1182\u001b[0m \u001b[43m\u001b[49m\u001b[43m)\u001b[49m\n",
      "File \u001b[0;32m~/opt/anaconda3/lib/python3.9/site-packages/ipykernel/kernelbase.py:1219\u001b[0m, in \u001b[0;36mKernel._input_request\u001b[0;34m(self, prompt, ident, parent, password)\u001b[0m\n\u001b[1;32m   1216\u001b[0m             \u001b[38;5;28;01mbreak\u001b[39;00m\n\u001b[1;32m   1217\u001b[0m \u001b[38;5;28;01mexcept\u001b[39;00m \u001b[38;5;167;01mKeyboardInterrupt\u001b[39;00m:\n\u001b[1;32m   1218\u001b[0m     \u001b[38;5;66;03m# re-raise KeyboardInterrupt, to truncate traceback\u001b[39;00m\n\u001b[0;32m-> 1219\u001b[0m     \u001b[38;5;28;01mraise\u001b[39;00m \u001b[38;5;167;01mKeyboardInterrupt\u001b[39;00m(\u001b[38;5;124m\"\u001b[39m\u001b[38;5;124mInterrupted by user\u001b[39m\u001b[38;5;124m\"\u001b[39m) \u001b[38;5;28;01mfrom\u001b[39;00m \u001b[38;5;28mNone\u001b[39m\n\u001b[1;32m   1220\u001b[0m \u001b[38;5;28;01mexcept\u001b[39;00m \u001b[38;5;167;01mException\u001b[39;00m:\n\u001b[1;32m   1221\u001b[0m     \u001b[38;5;28mself\u001b[39m\u001b[38;5;241m.\u001b[39mlog\u001b[38;5;241m.\u001b[39mwarning(\u001b[38;5;124m\"\u001b[39m\u001b[38;5;124mInvalid Message:\u001b[39m\u001b[38;5;124m\"\u001b[39m, exc_info\u001b[38;5;241m=\u001b[39m\u001b[38;5;28;01mTrue\u001b[39;00m)\n",
      "\u001b[0;31mKeyboardInterrupt\u001b[0m: Interrupted by user"
     ]
    }
   ],
   "source": [
    "enc_model , dec_model = make_inference_models()\n",
    "\n",
    "for _ in range(10):\n",
    "    states_values = enc_model.predict( str_to_tokens( input( 'Enter question : ' ) ) )\n",
    "    empty_target_seq = np.zeros( ( 1 , 1 ) )\n",
    "    empty_target_seq[0, 0] = tokenizer.word_index['start']\n",
    "    stop_condition = False\n",
    "    decoded_translation = ''\n",
    "    while not stop_condition :\n",
    "        dec_outputs , h , c = dec_model.predict([ empty_target_seq ] + states_values )\n",
    "        sampled_word_index = np.argmax( dec_outputs[0, -1, :] )\n",
    "        sampled_word = None\n",
    "        for word , index in tokenizer.word_index.items() :\n",
    "            if sampled_word_index == index :\n",
    "                decoded_translation += ' {}'.format( word )\n",
    "                sampled_word = word\n",
    "        \n",
    "        if sampled_word == 'end' or len(decoded_translation.split()) > maxlen_answers:\n",
    "            stop_condition = True\n",
    "            \n",
    "        empty_target_seq = np.zeros( ( 1 , 1 ) )  \n",
    "        empty_target_seq[ 0 , 0 ] = sampled_word_index\n",
    "        states_values = [ h , c ] \n",
    "\n",
    "    print( decoded_translation )"
   ]
  },
  {
   "cell_type": "code",
   "execution_count": null,
   "id": "553240bf",
   "metadata": {},
   "outputs": [],
   "source": []
  }
 ],
 "metadata": {
  "kernelspec": {
   "display_name": "Python 3 (ipykernel)",
   "language": "python",
   "name": "python3"
  },
  "language_info": {
   "codemirror_mode": {
    "name": "ipython",
    "version": 3
   },
   "file_extension": ".py",
   "mimetype": "text/x-python",
   "name": "python",
   "nbconvert_exporter": "python",
   "pygments_lexer": "ipython3",
   "version": "3.11.4"
  }
 },
 "nbformat": 4,
 "nbformat_minor": 5
}
