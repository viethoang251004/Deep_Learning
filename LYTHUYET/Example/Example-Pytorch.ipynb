{
 "cells": [
  {
   "cell_type": "markdown",
   "metadata": {
    "id": "664i_bF-dkve"
   },
   "source": [
    "# 1. Import Library"
   ]
  },
  {
   "cell_type": "code",
   "execution_count": 20,
   "metadata": {
    "executionInfo": {
     "elapsed": 1857,
     "status": "ok",
     "timestamp": 1706519246343,
     "user": {
      "displayName": "Chi Duong Trong",
      "userId": "10378956912403884190"
     },
     "user_tz": -420
    },
    "id": "b9YuoIid8WBg"
   },
   "outputs": [],
   "source": [
    "import torch\n",
    "import torch.nn as nn\n",
    "from torch.utils.data import Dataset\n",
    "\n",
    "\n",
    "import numpy as np\n",
    "import pandas as pd\n",
    "import matplotlib.pyplot as plt\n",
    "\n",
    "\n",
    "from sklearn.preprocessing import StandardScaler\n",
    "from sklearn.model_selection import train_test_split"
   ]
  },
  {
   "cell_type": "code",
   "execution_count": 21,
   "metadata": {},
   "outputs": [
    {
     "name": "stdout",
     "output_type": "stream",
     "text": [
      "Requirement already satisfied: torch in /Users/macos/anaconda3/lib/python3.11/site-packages (2.1.2)\n",
      "Requirement already satisfied: filelock in /Users/macos/anaconda3/lib/python3.11/site-packages (from torch) (3.9.0)\n",
      "Requirement already satisfied: typing-extensions in /Users/macos/anaconda3/lib/python3.11/site-packages (from torch) (4.7.1)\n",
      "Requirement already satisfied: sympy in /Users/macos/anaconda3/lib/python3.11/site-packages (from torch) (1.11.1)\n",
      "Requirement already satisfied: networkx in /Users/macos/anaconda3/lib/python3.11/site-packages (from torch) (3.1)\n",
      "Requirement already satisfied: jinja2 in /Users/macos/anaconda3/lib/python3.11/site-packages (from torch) (3.1.2)\n",
      "Requirement already satisfied: fsspec in /Users/macos/anaconda3/lib/python3.11/site-packages (from torch) (2023.3.0)\n",
      "Requirement already satisfied: MarkupSafe>=2.0 in /Users/macos/anaconda3/lib/python3.11/site-packages (from jinja2->torch) (2.1.1)\n",
      "Requirement already satisfied: mpmath>=0.19 in /Users/macos/anaconda3/lib/python3.11/site-packages (from sympy->torch) (1.3.0)\n"
     ]
    }
   ],
   "source": [
    "!pip install torch"
   ]
  },
  {
   "cell_type": "markdown",
   "metadata": {
    "id": "j_ABBR2AdnPx"
   },
   "source": [
    "# 2. Load dataset using pandas"
   ]
  },
  {
   "cell_type": "markdown",
   "metadata": {
    "id": "zi1P82ekgtLk"
   },
   "source": [
    "## About dataset: Heart Disease Dataset\n",
    "\n",
    "*   age\n",
    "*   sex\n",
    "*   chest pain type (4 values)\n",
    "*   resting blood pressure\n",
    "*   serum cholestoral in mg/dl\n",
    "*   fasting blood sugar > 120 mg/dl\n",
    "*   resting electrocardiographic results (values 0,1,2)\n",
    "*   maximum heart rate achieved\n",
    "*   exercise induced angina\n",
    "*   oldpeak = ST depression induced by exercise relative to rest\n",
    "*   the slope of the peak exercise ST segment\n",
    "*   number of major vessels (0-3) colored by flourosopy\n",
    "*   thal: 0 = normal; 1 = fixed defect; 2 = reversable defect\n",
    "\n",
    "\n",
    "\n",
    "\n",
    "\n",
    "\n",
    "\n",
    "\n",
    "\n",
    "\n",
    "\n",
    "\n",
    "\n",
    "\n",
    "\n",
    "\n"
   ]
  },
  {
   "cell_type": "code",
   "execution_count": 22,
   "metadata": {
    "colab": {
     "base_uri": "https://localhost:8080/",
     "height": 520
    },
    "executionInfo": {
     "elapsed": 10,
     "status": "ok",
     "timestamp": 1706519246343,
     "user": {
      "displayName": "Chi Duong Trong",
      "userId": "10378956912403884190"
     },
     "user_tz": -420
    },
    "id": "t8HGKK0T-clL",
    "outputId": "3198d4aa-9595-425a-d7b6-83b865213244"
   },
   "outputs": [
    {
     "data": {
      "text/html": [
       "<div>\n",
       "<style scoped>\n",
       "    .dataframe tbody tr th:only-of-type {\n",
       "        vertical-align: middle;\n",
       "    }\n",
       "\n",
       "    .dataframe tbody tr th {\n",
       "        vertical-align: top;\n",
       "    }\n",
       "\n",
       "    .dataframe thead th {\n",
       "        text-align: right;\n",
       "    }\n",
       "</style>\n",
       "<table border=\"1\" class=\"dataframe\">\n",
       "  <thead>\n",
       "    <tr style=\"text-align: right;\">\n",
       "      <th></th>\n",
       "      <th>age</th>\n",
       "      <th>sex</th>\n",
       "      <th>cp</th>\n",
       "      <th>trestbps</th>\n",
       "      <th>chol</th>\n",
       "      <th>fbs</th>\n",
       "      <th>restecg</th>\n",
       "      <th>thalach</th>\n",
       "      <th>exang</th>\n",
       "      <th>oldpeak</th>\n",
       "      <th>slope</th>\n",
       "      <th>ca</th>\n",
       "      <th>thal</th>\n",
       "      <th>target</th>\n",
       "    </tr>\n",
       "  </thead>\n",
       "  <tbody>\n",
       "    <tr>\n",
       "      <th>1010</th>\n",
       "      <td>51</td>\n",
       "      <td>1</td>\n",
       "      <td>0</td>\n",
       "      <td>140</td>\n",
       "      <td>299</td>\n",
       "      <td>0</td>\n",
       "      <td>1</td>\n",
       "      <td>173</td>\n",
       "      <td>1</td>\n",
       "      <td>1.6</td>\n",
       "      <td>2</td>\n",
       "      <td>0</td>\n",
       "      <td>3</td>\n",
       "      <td>0</td>\n",
       "    </tr>\n",
       "    <tr>\n",
       "      <th>1011</th>\n",
       "      <td>45</td>\n",
       "      <td>1</td>\n",
       "      <td>1</td>\n",
       "      <td>128</td>\n",
       "      <td>308</td>\n",
       "      <td>0</td>\n",
       "      <td>0</td>\n",
       "      <td>170</td>\n",
       "      <td>0</td>\n",
       "      <td>0.0</td>\n",
       "      <td>2</td>\n",
       "      <td>0</td>\n",
       "      <td>2</td>\n",
       "      <td>1</td>\n",
       "    </tr>\n",
       "    <tr>\n",
       "      <th>1012</th>\n",
       "      <td>48</td>\n",
       "      <td>1</td>\n",
       "      <td>1</td>\n",
       "      <td>110</td>\n",
       "      <td>229</td>\n",
       "      <td>0</td>\n",
       "      <td>1</td>\n",
       "      <td>168</td>\n",
       "      <td>0</td>\n",
       "      <td>1.0</td>\n",
       "      <td>0</td>\n",
       "      <td>0</td>\n",
       "      <td>3</td>\n",
       "      <td>0</td>\n",
       "    </tr>\n",
       "    <tr>\n",
       "      <th>1013</th>\n",
       "      <td>58</td>\n",
       "      <td>1</td>\n",
       "      <td>0</td>\n",
       "      <td>114</td>\n",
       "      <td>318</td>\n",
       "      <td>0</td>\n",
       "      <td>2</td>\n",
       "      <td>140</td>\n",
       "      <td>0</td>\n",
       "      <td>4.4</td>\n",
       "      <td>0</td>\n",
       "      <td>3</td>\n",
       "      <td>1</td>\n",
       "      <td>0</td>\n",
       "    </tr>\n",
       "    <tr>\n",
       "      <th>1014</th>\n",
       "      <td>44</td>\n",
       "      <td>0</td>\n",
       "      <td>2</td>\n",
       "      <td>108</td>\n",
       "      <td>141</td>\n",
       "      <td>0</td>\n",
       "      <td>1</td>\n",
       "      <td>175</td>\n",
       "      <td>0</td>\n",
       "      <td>0.6</td>\n",
       "      <td>1</td>\n",
       "      <td>0</td>\n",
       "      <td>2</td>\n",
       "      <td>1</td>\n",
       "    </tr>\n",
       "    <tr>\n",
       "      <th>1015</th>\n",
       "      <td>58</td>\n",
       "      <td>1</td>\n",
       "      <td>0</td>\n",
       "      <td>128</td>\n",
       "      <td>216</td>\n",
       "      <td>0</td>\n",
       "      <td>0</td>\n",
       "      <td>131</td>\n",
       "      <td>1</td>\n",
       "      <td>2.2</td>\n",
       "      <td>1</td>\n",
       "      <td>3</td>\n",
       "      <td>3</td>\n",
       "      <td>0</td>\n",
       "    </tr>\n",
       "    <tr>\n",
       "      <th>1016</th>\n",
       "      <td>65</td>\n",
       "      <td>1</td>\n",
       "      <td>3</td>\n",
       "      <td>138</td>\n",
       "      <td>282</td>\n",
       "      <td>1</td>\n",
       "      <td>0</td>\n",
       "      <td>174</td>\n",
       "      <td>0</td>\n",
       "      <td>1.4</td>\n",
       "      <td>1</td>\n",
       "      <td>1</td>\n",
       "      <td>2</td>\n",
       "      <td>0</td>\n",
       "    </tr>\n",
       "    <tr>\n",
       "      <th>1017</th>\n",
       "      <td>53</td>\n",
       "      <td>1</td>\n",
       "      <td>0</td>\n",
       "      <td>123</td>\n",
       "      <td>282</td>\n",
       "      <td>0</td>\n",
       "      <td>1</td>\n",
       "      <td>95</td>\n",
       "      <td>1</td>\n",
       "      <td>2.0</td>\n",
       "      <td>1</td>\n",
       "      <td>2</td>\n",
       "      <td>3</td>\n",
       "      <td>0</td>\n",
       "    </tr>\n",
       "    <tr>\n",
       "      <th>1018</th>\n",
       "      <td>41</td>\n",
       "      <td>1</td>\n",
       "      <td>0</td>\n",
       "      <td>110</td>\n",
       "      <td>172</td>\n",
       "      <td>0</td>\n",
       "      <td>0</td>\n",
       "      <td>158</td>\n",
       "      <td>0</td>\n",
       "      <td>0.0</td>\n",
       "      <td>2</td>\n",
       "      <td>0</td>\n",
       "      <td>3</td>\n",
       "      <td>0</td>\n",
       "    </tr>\n",
       "    <tr>\n",
       "      <th>1019</th>\n",
       "      <td>47</td>\n",
       "      <td>1</td>\n",
       "      <td>0</td>\n",
       "      <td>112</td>\n",
       "      <td>204</td>\n",
       "      <td>0</td>\n",
       "      <td>1</td>\n",
       "      <td>143</td>\n",
       "      <td>0</td>\n",
       "      <td>0.1</td>\n",
       "      <td>2</td>\n",
       "      <td>0</td>\n",
       "      <td>2</td>\n",
       "      <td>1</td>\n",
       "    </tr>\n",
       "    <tr>\n",
       "      <th>1020</th>\n",
       "      <td>59</td>\n",
       "      <td>1</td>\n",
       "      <td>1</td>\n",
       "      <td>140</td>\n",
       "      <td>221</td>\n",
       "      <td>0</td>\n",
       "      <td>1</td>\n",
       "      <td>164</td>\n",
       "      <td>1</td>\n",
       "      <td>0.0</td>\n",
       "      <td>2</td>\n",
       "      <td>0</td>\n",
       "      <td>2</td>\n",
       "      <td>1</td>\n",
       "    </tr>\n",
       "    <tr>\n",
       "      <th>1021</th>\n",
       "      <td>60</td>\n",
       "      <td>1</td>\n",
       "      <td>0</td>\n",
       "      <td>125</td>\n",
       "      <td>258</td>\n",
       "      <td>0</td>\n",
       "      <td>0</td>\n",
       "      <td>141</td>\n",
       "      <td>1</td>\n",
       "      <td>2.8</td>\n",
       "      <td>1</td>\n",
       "      <td>1</td>\n",
       "      <td>3</td>\n",
       "      <td>0</td>\n",
       "    </tr>\n",
       "    <tr>\n",
       "      <th>1022</th>\n",
       "      <td>47</td>\n",
       "      <td>1</td>\n",
       "      <td>0</td>\n",
       "      <td>110</td>\n",
       "      <td>275</td>\n",
       "      <td>0</td>\n",
       "      <td>0</td>\n",
       "      <td>118</td>\n",
       "      <td>1</td>\n",
       "      <td>1.0</td>\n",
       "      <td>1</td>\n",
       "      <td>1</td>\n",
       "      <td>2</td>\n",
       "      <td>0</td>\n",
       "    </tr>\n",
       "    <tr>\n",
       "      <th>1023</th>\n",
       "      <td>50</td>\n",
       "      <td>0</td>\n",
       "      <td>0</td>\n",
       "      <td>110</td>\n",
       "      <td>254</td>\n",
       "      <td>0</td>\n",
       "      <td>0</td>\n",
       "      <td>159</td>\n",
       "      <td>0</td>\n",
       "      <td>0.0</td>\n",
       "      <td>2</td>\n",
       "      <td>0</td>\n",
       "      <td>2</td>\n",
       "      <td>1</td>\n",
       "    </tr>\n",
       "    <tr>\n",
       "      <th>1024</th>\n",
       "      <td>54</td>\n",
       "      <td>1</td>\n",
       "      <td>0</td>\n",
       "      <td>120</td>\n",
       "      <td>188</td>\n",
       "      <td>0</td>\n",
       "      <td>1</td>\n",
       "      <td>113</td>\n",
       "      <td>0</td>\n",
       "      <td>1.4</td>\n",
       "      <td>1</td>\n",
       "      <td>1</td>\n",
       "      <td>3</td>\n",
       "      <td>0</td>\n",
       "    </tr>\n",
       "  </tbody>\n",
       "</table>\n",
       "</div>"
      ],
      "text/plain": [
       "      age  sex  cp  trestbps  chol  fbs  restecg  thalach  exang  oldpeak  \\\n",
       "1010   51    1   0       140   299    0        1      173      1      1.6   \n",
       "1011   45    1   1       128   308    0        0      170      0      0.0   \n",
       "1012   48    1   1       110   229    0        1      168      0      1.0   \n",
       "1013   58    1   0       114   318    0        2      140      0      4.4   \n",
       "1014   44    0   2       108   141    0        1      175      0      0.6   \n",
       "1015   58    1   0       128   216    0        0      131      1      2.2   \n",
       "1016   65    1   3       138   282    1        0      174      0      1.4   \n",
       "1017   53    1   0       123   282    0        1       95      1      2.0   \n",
       "1018   41    1   0       110   172    0        0      158      0      0.0   \n",
       "1019   47    1   0       112   204    0        1      143      0      0.1   \n",
       "1020   59    1   1       140   221    0        1      164      1      0.0   \n",
       "1021   60    1   0       125   258    0        0      141      1      2.8   \n",
       "1022   47    1   0       110   275    0        0      118      1      1.0   \n",
       "1023   50    0   0       110   254    0        0      159      0      0.0   \n",
       "1024   54    1   0       120   188    0        1      113      0      1.4   \n",
       "\n",
       "      slope  ca  thal  target  \n",
       "1010      2   0     3       0  \n",
       "1011      2   0     2       1  \n",
       "1012      0   0     3       0  \n",
       "1013      0   3     1       0  \n",
       "1014      1   0     2       1  \n",
       "1015      1   3     3       0  \n",
       "1016      1   1     2       0  \n",
       "1017      1   2     3       0  \n",
       "1018      2   0     3       0  \n",
       "1019      2   0     2       1  \n",
       "1020      2   0     2       1  \n",
       "1021      1   1     3       0  \n",
       "1022      1   1     2       0  \n",
       "1023      2   0     2       1  \n",
       "1024      1   1     3       0  "
      ]
     },
     "execution_count": 22,
     "metadata": {},
     "output_type": "execute_result"
    }
   ],
   "source": [
    "df = pd.read_csv('heart.csv')\n",
    "df.tail(15)"
   ]
  },
  {
   "cell_type": "code",
   "execution_count": 23,
   "metadata": {
    "colab": {
     "base_uri": "https://localhost:8080/",
     "height": 675
    },
    "executionInfo": {
     "elapsed": 8,
     "status": "ok",
     "timestamp": 1706519246343,
     "user": {
      "displayName": "Chi Duong Trong",
      "userId": "10378956912403884190"
     },
     "user_tz": -420
    },
    "id": "FTiuN6IQaiHr",
    "outputId": "b1dfeb16-f45a-4f6b-cfb5-286bdc43c224"
   },
   "outputs": [
    {
     "data": {
      "image/png": "[encoded data removed]",
      "text/plain": [
       "<Figure size 800x800 with 1 Axes>"
      ]
     },
     "metadata": {},
     "output_type": "display_data"
    }
   ],
   "source": [
    "target_counts = df['target'].value_counts()\n",
    "\n",
    "plt.figure(figsize=(8, 8))\n",
    "plt.pie(target_counts, labels=target_counts.index, autopct='%1.1f%%', startangle=140)\n",
    "plt.title('Distribution of Target')\n",
    "plt.axis('equal')\n",
    "plt.show()\n"
   ]
  },
  {
   "cell_type": "markdown",
   "metadata": {
    "id": "ukLetVvDdtrD"
   },
   "source": [
    "#3. Processing data"
   ]
  },
  {
   "cell_type": "code",
   "execution_count": 24,
   "metadata": {
    "executionInfo": {
     "elapsed": 8,
     "status": "ok",
     "timestamp": 1706519246344,
     "user": {
      "displayName": "Chi Duong Trong",
      "userId": "10378956912403884190"
     },
     "user_tz": -420
    },
    "id": "1oFaqwrwAaR0"
   },
   "outputs": [],
   "source": [
    "# convert data to numpy array\n",
    "X = df.iloc[:, 0:-1].values\n",
    "y = list(df.iloc[:, -1])"
   ]
  },
  {
   "cell_type": "code",
   "execution_count": 25,
   "metadata": {
    "executionInfo": {
     "elapsed": 8,
     "status": "ok",
     "timestamp": 1706519246344,
     "user": {
      "displayName": "Chi Duong Trong",
      "userId": "10378956912403884190"
     },
     "user_tz": -420
    },
    "id": "xFTRG077_7X2"
   },
   "outputs": [],
   "source": [
    "# Standardize the features\n",
    "scaler = StandardScaler()\n",
    "X = scaler.fit_transform(X)"
   ]
  },
  {
   "cell_type": "code",
   "execution_count": 26,
   "metadata": {
    "executionInfo": {
     "elapsed": 7,
     "status": "ok",
     "timestamp": 1706519246344,
     "user": {
      "displayName": "Chi Duong Trong",
      "userId": "10378956912403884190"
     },
     "user_tz": -420
    },
    "id": "qWyB4_gGJmgh"
   },
   "outputs": [],
   "source": [
    "# Split the dataset into training and testing sets\n",
    "X_train, X_test, y_train, y_test = train_test_split(X, y, test_size=0.2, random_state=42)"
   ]
  },
  {
   "cell_type": "code",
   "execution_count": 27,
   "metadata": {
    "executionInfo": {
     "elapsed": 7,
     "status": "ok",
     "timestamp": 1706519246344,
     "user": {
      "displayName": "Chi Duong Trong",
      "userId": "10378956912403884190"
     },
     "user_tz": -420
    },
    "id": "sLehY815AvW7"
   },
   "outputs": [],
   "source": [
    "# Convert the data to PyTorch tensors\n",
    "X_train_tensor = torch.tensor(X_train, dtype=torch.float32)\n",
    "y_train_tensor = torch.tensor(y_train, dtype=torch.long).unsqueeze(1)\n",
    "X_test_tensor = torch.tensor(X_test, dtype=torch.float32)\n",
    "y_test_tensor = torch.tensor(y_test, dtype=torch.long).unsqueeze(1)"
   ]
  },
  {
   "cell_type": "code",
   "execution_count": 31,
   "metadata": {},
   "outputs": [
    {
     "name": "stdout",
     "output_type": "stream",
     "text": [
      "tensor([[ 0.8344, -1.5117, -0.9158, -0.4348, -0.7175, -0.4189,  0.8913,  0.6039,\n",
      "         -0.7123, -0.9123,  0.9954, -0.7320, -0.5221],\n",
      "        [-0.1582, -1.5117,  1.0276, -0.2063, -0.5818, -0.4189, -1.0040, -1.4836,\n",
      "         -0.7123, -0.9123,  0.9954, -0.7320, -3.7461],\n",
      "        [ 0.0624,  0.6615, -0.9158,  1.6214,  0.8339, -0.4189, -1.0040, -0.1789,\n",
      "          1.4039, -0.2312, -0.6241,  0.2386,  1.0899],\n",
      "        [-0.4890, -1.5117,  0.0559, -0.6632, -0.0388, -0.4189,  0.8913,  0.5604,\n",
      "         -0.7123,  0.0243,  0.9954, -0.7320, -0.5221],\n",
      "        [-0.7096,  0.6615, -0.9158, -0.0921,  0.1939,  2.3873, -1.0040,  0.0385,\n",
      "          1.4039, -0.9123,  0.9954,  1.2092,  1.0899]])\n"
     ]
    }
   ],
   "source": [
    "print(X_test_tensor[:5])"
   ]
  },
  {
   "cell_type": "code",
   "execution_count": 29,
   "metadata": {},
   "outputs": [
    {
     "name": "stdout",
     "output_type": "stream",
     "text": [
      "[1, 1, 0, 1, 0, 1, 0, 0, 1, 0, 1, 0, 1, 1, 0, 0, 0, 1, 1, 0, 1, 0, 0, 0, 1, 1, 1, 1, 0, 0, 0, 1, 0, 1, 1, 1, 1, 1, 1, 1, 0, 0, 1, 0, 0, 0, 0, 0, 0, 1, 1, 0, 0, 0, 1, 1, 0, 0, 0, 1, 1, 1, 0, 1, 0, 0, 1, 0, 0, 1, 0, 0, 0, 1, 1, 1, 0, 0, 0, 1, 0, 0, 0, 0, 1, 0, 1, 0, 0, 0, 0, 0, 1, 1, 1, 1, 0, 0, 0, 0, 1, 0, 0, 1, 0, 1, 0, 1, 0, 1, 0, 1, 1, 0, 1, 1, 0, 1, 1, 0, 1, 1, 0, 0, 1, 0, 1, 0, 0, 1, 1, 0, 1, 1, 0, 1, 0, 1, 1, 0, 1, 1, 1, 1, 1, 1, 1, 1, 0, 0, 0, 0, 1, 1, 0, 0, 0, 1, 0, 0, 1, 1, 0, 0, 1, 1, 0, 0, 1, 1, 0, 1, 1, 0, 1, 1, 1, 0, 0, 1, 1, 0, 1, 0, 1, 1, 1, 0, 1, 1, 1, 0, 0, 0, 0, 1, 0, 0, 1, 1, 1, 1, 1, 0, 0]\n"
     ]
    }
   ],
   "source": [
    "print(y_test)"
   ]
  },
  {
   "cell_type": "code",
   "execution_count": 30,
   "metadata": {},
   "outputs": [
    {
     "name": "stdout",
     "output_type": "stream",
     "text": [
      "tensor([[1],\n",
      "        [1],\n",
      "        [0],\n",
      "        [1],\n",
      "        [0]])\n"
     ]
    }
   ],
   "source": [
    "print(y_test_tensor[:5])"
   ]
  },
  {
   "cell_type": "markdown",
   "metadata": {
    "id": "8JyoGqhcdx-R"
   },
   "source": [
    "#4. Create a custom dataset"
   ]
  },
  {
   "cell_type": "code",
   "execution_count": 11,
   "metadata": {
    "executionInfo": {
     "elapsed": 7,
     "status": "ok",
     "timestamp": 1706519246344,
     "user": {
      "displayName": "Chi Duong Trong",
      "userId": "10378956912403884190"
     },
     "user_tz": -420
    },
    "id": "pXMGNngcA_KW"
   },
   "outputs": [],
   "source": [
    "class Dataset(Dataset):\n",
    "    def __init__(self, x, y):\n",
    "        self.x = x\n",
    "        self.y = y\n",
    "\n",
    "    # get item for each index\n",
    "    def __getitem__(self, index):\n",
    "        return self.x[index], self.y[index]\n",
    "\n",
    "    # get len of dataset\n",
    "    def __len__(self):\n",
    "        return len(self.x)"
   ]
  },
  {
   "cell_type": "code",
   "execution_count": 12,
   "metadata": {
    "executionInfo": {
     "elapsed": 7,
     "status": "ok",
     "timestamp": 1706519246344,
     "user": {
      "displayName": "Chi Duong Trong",
      "userId": "10378956912403884190"
     },
     "user_tz": -420
    },
    "id": "rQ5_VLhJBRxM"
   },
   "outputs": [],
   "source": [
    "train_ds = Dataset(X_train_tensor, y_train_tensor)\n",
    "test_ds = Dataset(X_test_tensor, y_test_tensor)"
   ]
  },
  {
   "cell_type": "code",
   "execution_count": 13,
   "metadata": {
    "executionInfo": {
     "elapsed": 7,
     "status": "ok",
     "timestamp": 1706519246344,
     "user": {
      "displayName": "Chi Duong Trong",
      "userId": "10378956912403884190"
     },
     "user_tz": -420
    },
    "id": "1AGJpu1DBBkh"
   },
   "outputs": [],
   "source": [
    "# Load data to dataloader for batch processing\n",
    "train_loader = torch.utils.data.DataLoader(train_ds, batch_size=32, shuffle=True)\n",
    "test_loader = torch.utils.data.DataLoader(test_ds, batch_size=32, shuffle=True)\n"
   ]
  },
  {
   "cell_type": "markdown",
   "metadata": {
    "id": "jbej5YWod1aQ"
   },
   "source": [
    "#5. Building a Neural Network"
   ]
  },
  {
   "cell_type": "code",
   "execution_count": 14,
   "metadata": {
    "executionInfo": {
     "elapsed": 561,
     "status": "ok",
     "timestamp": 1706519246898,
     "user": {
      "displayName": "Chi Duong Trong",
      "userId": "10378956912403884190"
     },
     "user_tz": -420
    },
    "id": "CoWMnadyBSqr"
   },
   "outputs": [],
   "source": [
    "# Define neural network\n",
    "class Model(nn.Module):\n",
    "    def __init__(self, input_features, output_features):\n",
    "        super(Model, self).__init__()\n",
    "        self.fc1 = nn.Linear(input_features, 5)\n",
    "        self.fc2 = nn.Linear(5, 4)\n",
    "        self.fc3 = nn.Linear(4, 3)\n",
    "        self.fc4 = nn.Linear(3, output_features)\n",
    "        self.sigmod = nn.Sigmoid()\n",
    "        self.tanh = nn.Tanh()\n",
    "\n",
    "    def forward(self, x):\n",
    "        out = self.fc1(x)\n",
    "        out = self.tanh(out)\n",
    "        out = self.fc2(out)\n",
    "        out = self.tanh(out)\n",
    "        out = self.fc3(out)\n",
    "        out = self.tanh(out)\n",
    "        out = self.fc4(out)\n",
    "        out = self.sigmod(out)\n",
    "        return out"
   ]
  },
  {
   "cell_type": "code",
   "execution_count": 15,
   "metadata": {
    "colab": {
     "base_uri": "https://localhost:8080/"
    },
    "executionInfo": {
     "elapsed": 5,
     "status": "ok",
     "timestamp": 1706519246898,
     "user": {
      "displayName": "Chi Duong Trong",
      "userId": "10378956912403884190"
     },
     "user_tz": -420
    },
    "id": "Xu4Mr4_2BY7f",
    "outputId": "483e6cf7-ff4d-4ba7-e062-78de5822adac"
   },
   "outputs": [
    {
     "name": "stdout",
     "output_type": "stream",
     "text": [
      "Model(\n",
      "  (fc1): Linear(in_features=13, out_features=5, bias=True)\n",
      "  (fc2): Linear(in_features=5, out_features=4, bias=True)\n",
      "  (fc3): Linear(in_features=4, out_features=3, bias=True)\n",
      "  (fc4): Linear(in_features=3, out_features=1, bias=True)\n",
      "  (sigmod): Sigmoid()\n",
      "  (tanh): Tanh()\n",
      ")\n"
     ]
    }
   ],
   "source": [
    "# Create neural network object\n",
    "net = Model(input_features = 13, output_features = 1)\n",
    "\n",
    "# print network architecture\n",
    "print(net)"
   ]
  },
  {
   "cell_type": "code",
   "execution_count": 16,
   "metadata": {
    "executionInfo": {
     "elapsed": 3,
     "status": "ok",
     "timestamp": 1706519246898,
     "user": {
      "displayName": "Chi Duong Trong",
      "userId": "10378956912403884190"
     },
     "user_tz": -420
    },
    "id": "lR9LSUdoIjyY"
   },
   "outputs": [],
   "source": [
    "def checkpoint(model, filename):\n",
    "    torch.save(model.state_dict(), filename)"
   ]
  },
  {
   "cell_type": "code",
   "execution_count": 17,
   "metadata": {
    "colab": {
     "base_uri": "https://localhost:8080/"
    },
    "executionInfo": {
     "elapsed": 1113,
     "status": "ok",
     "timestamp": 1706519248008,
     "user": {
      "displayName": "Chi Duong Trong",
      "userId": "10378956912403884190"
     },
     "user_tz": -420
    },
    "id": "trMAv8VPBcp6",
    "outputId": "c570d9f7-1e63-4482-e917-9e28c0036bce"
   },
   "outputs": [
    {
     "name": "stderr",
     "output_type": "stream",
     "text": [
      "/Users/macos/anaconda3/lib/python3.11/site-packages/torch/nn/_reduction.py:42: UserWarning: size_average and reduce args will be deprecated, please use reduction='mean' instead.\n",
      "  warnings.warn(warning.format(ret))\n",
      "2024-02-20 09:52:43.843722: I tensorflow/core/platform/cpu_feature_guard.cc:182] This TensorFlow binary is optimized to use available CPU instructions in performance-critical operations.\n",
      "To enable the following instructions: AVX2 FMA, in other operations, rebuild TensorFlow with the appropriate compiler flags.\n"
     ]
    }
   ],
   "source": [
    "# Define binary class entropy (in and output should have same shape)\n",
    "criterion = torch.nn.BCELoss(size_average=True)\n",
    "\n",
    "# Define optimizers\n",
    "optimizers = {\n",
    "    \"SGD\": torch.optim.SGD(net.parameters(), lr=0.1, momentum=0.9, weight_decay=1e-5),\n",
    "    \"Adam\": torch.optim.Adam(net.parameters(), lr=0.1, weight_decay=1e-5),\n",
    "    \"RMSprop\": torch.optim.RMSprop(net.parameters(), lr=0.1, weight_decay=1e-5),\n",
    "    \"AdamW\": torch.optim.AdamW(net.parameters(), lr=0.1, weight_decay=1e-5),\n",
    "}\n",
    "\n",
    "epochs = 50\n",
    "early_stop_thresh = 5\n",
    "best_accuracy = -1\n",
    "best_epoch = -1\n",
    "accuracies = {optimizer_name: [] for optimizer_name in optimizers}"
   ]
  },
  {
   "cell_type": "markdown",
   "metadata": {
    "id": "shfVDtnhd6bk"
   },
   "source": [
    "#6. Train network"
   ]
  },
  {
   "cell_type": "code",
   "execution_count": 18,
   "metadata": {
    "colab": {
     "base_uri": "https://localhost:8080/"
    },
    "executionInfo": {
     "elapsed": 3840,
     "status": "ok",
     "timestamp": 1706519251846,
     "user": {
      "displayName": "Chi Duong Trong",
      "userId": "10378956912403884190"
     },
     "user_tz": -420
    },
    "id": "y0q8yUh4E7QH",
    "outputId": "a0af4572-2a89-4486-d493-0d6554ec53f1"
   },
   "outputs": [
    {
     "name": "stdout",
     "output_type": "stream",
     "text": [
      "Optimizer: SGD, Epoch 1/50, Accuracy: 78.05\n",
      "Optimizer: SGD, Epoch 2/50, Accuracy: 80.49\n",
      "Optimizer: SGD, Epoch 3/50, Accuracy: 81.46\n",
      "Optimizer: SGD, Epoch 4/50, Accuracy: 85.85\n",
      "Optimizer: SGD, Epoch 5/50, Accuracy: 84.88\n",
      "Optimizer: SGD, Epoch 6/50, Accuracy: 86.83\n",
      "Optimizer: SGD, Epoch 7/50, Accuracy: 85.37\n",
      "Optimizer: SGD, Epoch 8/50, Accuracy: 86.83\n",
      "Optimizer: SGD, Epoch 9/50, Accuracy: 87.32\n",
      "Optimizer: SGD, Epoch 10/50, Accuracy: 87.32\n",
      "Optimizer: SGD, Epoch 11/50, Accuracy: 88.29\n",
      "Optimizer: SGD, Epoch 12/50, Accuracy: 86.83\n",
      "Optimizer: SGD, Epoch 13/50, Accuracy: 88.29\n",
      "Optimizer: SGD, Epoch 14/50, Accuracy: 86.83\n",
      "Optimizer: SGD, Epoch 15/50, Accuracy: 88.78\n",
      "Optimizer: SGD, Epoch 16/50, Accuracy: 87.80\n",
      "Optimizer: SGD, Epoch 17/50, Accuracy: 89.76\n",
      "Optimizer: SGD, Epoch 18/50, Accuracy: 89.27\n",
      "Optimizer: SGD, Epoch 19/50, Accuracy: 89.76\n",
      "Optimizer: SGD, Epoch 20/50, Accuracy: 90.24\n",
      "Optimizer: SGD, Epoch 21/50, Accuracy: 92.20\n",
      "Optimizer: SGD, Epoch 22/50, Accuracy: 89.27\n",
      "Optimizer: SGD, Epoch 23/50, Accuracy: 89.76\n",
      "Optimizer: SGD, Epoch 24/50, Accuracy: 88.29\n",
      "Optimizer: SGD, Epoch 25/50, Accuracy: 89.27\n",
      "Optimizer: SGD, Epoch 26/50, Accuracy: 89.27\n",
      "Optimizer: SGD, Epoch 27/50, Accuracy: 90.73\n",
      "SGD algorithms stopped training at epoch 26\n",
      "\n",
      "\n",
      "\n",
      "Optimizer: Adam, Epoch 1/50, Accuracy: 86.34\n",
      "Optimizer: Adam, Epoch 2/50, Accuracy: 87.32\n",
      "Optimizer: Adam, Epoch 3/50, Accuracy: 84.88\n",
      "Optimizer: Adam, Epoch 4/50, Accuracy: 87.80\n",
      "Optimizer: Adam, Epoch 5/50, Accuracy: 86.83\n",
      "Optimizer: Adam, Epoch 6/50, Accuracy: 87.80\n",
      "Optimizer: Adam, Epoch 7/50, Accuracy: 87.32\n",
      "Optimizer: Adam, Epoch 8/50, Accuracy: 86.34\n",
      "Optimizer: Adam, Epoch 9/50, Accuracy: 89.27\n",
      "Optimizer: Adam, Epoch 10/50, Accuracy: 89.27\n",
      "Optimizer: Adam, Epoch 11/50, Accuracy: 90.73\n",
      "Optimizer: Adam, Epoch 12/50, Accuracy: 88.78\n",
      "Optimizer: Adam, Epoch 13/50, Accuracy: 90.73\n",
      "Optimizer: Adam, Epoch 14/50, Accuracy: 91.71\n",
      "Optimizer: Adam, Epoch 15/50, Accuracy: 91.71\n",
      "Optimizer: Adam, Epoch 16/50, Accuracy: 89.76\n",
      "Optimizer: Adam, Epoch 17/50, Accuracy: 85.85\n",
      "Optimizer: Adam, Epoch 18/50, Accuracy: 89.27\n",
      "Optimizer: Adam, Epoch 19/50, Accuracy: 90.73\n",
      "Optimizer: Adam, Epoch 20/50, Accuracy: 90.73\n",
      "Optimizer: Adam, Epoch 21/50, Accuracy: 86.83\n",
      "Optimizer: Adam, Epoch 22/50, Accuracy: 85.85\n",
      "Optimizer: Adam, Epoch 23/50, Accuracy: 86.34\n",
      "Optimizer: Adam, Epoch 24/50, Accuracy: 86.34\n",
      "Optimizer: Adam, Epoch 25/50, Accuracy: 86.34\n",
      "Optimizer: Adam, Epoch 26/50, Accuracy: 86.34\n",
      "Optimizer: Adam, Epoch 27/50, Accuracy: 86.34\n",
      "Adam algorithms stopped training at epoch 26\n",
      "\n",
      "\n",
      "\n",
      "Optimizer: RMSprop, Epoch 1/50, Accuracy: 76.59\n",
      "Optimizer: RMSprop, Epoch 2/50, Accuracy: 79.02\n",
      "Optimizer: RMSprop, Epoch 3/50, Accuracy: 80.98\n",
      "Optimizer: RMSprop, Epoch 4/50, Accuracy: 80.98\n",
      "Optimizer: RMSprop, Epoch 5/50, Accuracy: 79.51\n",
      "Optimizer: RMSprop, Epoch 6/50, Accuracy: 75.61\n",
      "Optimizer: RMSprop, Epoch 7/50, Accuracy: 77.07\n",
      "Optimizer: RMSprop, Epoch 8/50, Accuracy: 79.02\n",
      "Optimizer: RMSprop, Epoch 9/50, Accuracy: 80.49\n",
      "Optimizer: RMSprop, Epoch 10/50, Accuracy: 79.02\n",
      "Optimizer: RMSprop, Epoch 11/50, Accuracy: 78.54\n",
      "Optimizer: RMSprop, Epoch 12/50, Accuracy: 78.05\n",
      "Optimizer: RMSprop, Epoch 13/50, Accuracy: 81.46\n",
      "Optimizer: RMSprop, Epoch 14/50, Accuracy: 80.00\n",
      "Optimizer: RMSprop, Epoch 15/50, Accuracy: 80.00\n",
      "Optimizer: RMSprop, Epoch 16/50, Accuracy: 80.00\n",
      "Optimizer: RMSprop, Epoch 17/50, Accuracy: 81.95\n",
      "Optimizer: RMSprop, Epoch 18/50, Accuracy: 81.46\n",
      "Optimizer: RMSprop, Epoch 19/50, Accuracy: 79.51\n",
      "Optimizer: RMSprop, Epoch 20/50, Accuracy: 80.49\n",
      "Optimizer: RMSprop, Epoch 21/50, Accuracy: 80.49\n",
      "Optimizer: RMSprop, Epoch 22/50, Accuracy: 79.02\n",
      "Optimizer: RMSprop, Epoch 23/50, Accuracy: 80.49\n",
      "Optimizer: RMSprop, Epoch 24/50, Accuracy: 80.49\n",
      "Optimizer: RMSprop, Epoch 25/50, Accuracy: 80.49\n",
      "Optimizer: RMSprop, Epoch 26/50, Accuracy: 79.02\n",
      "Optimizer: RMSprop, Epoch 27/50, Accuracy: 80.49\n",
      "RMSprop algorithms stopped training at epoch 26\n",
      "\n",
      "\n",
      "\n",
      "Optimizer: AdamW, Epoch 1/50, Accuracy: 79.51\n",
      "Optimizer: AdamW, Epoch 2/50, Accuracy: 79.51\n",
      "Optimizer: AdamW, Epoch 3/50, Accuracy: 79.02\n",
      "Optimizer: AdamW, Epoch 4/50, Accuracy: 80.00\n",
      "Optimizer: AdamW, Epoch 5/50, Accuracy: 80.98\n",
      "Optimizer: AdamW, Epoch 6/50, Accuracy: 80.49\n",
      "Optimizer: AdamW, Epoch 7/50, Accuracy: 80.49\n",
      "Optimizer: AdamW, Epoch 8/50, Accuracy: 80.98\n",
      "Optimizer: AdamW, Epoch 9/50, Accuracy: 80.49\n",
      "Optimizer: AdamW, Epoch 10/50, Accuracy: 80.00\n",
      "Optimizer: AdamW, Epoch 11/50, Accuracy: 80.00\n",
      "Optimizer: AdamW, Epoch 12/50, Accuracy: 81.46\n",
      "Optimizer: AdamW, Epoch 13/50, Accuracy: 81.46\n",
      "Optimizer: AdamW, Epoch 14/50, Accuracy: 81.46\n",
      "Optimizer: AdamW, Epoch 15/50, Accuracy: 81.46\n",
      "Optimizer: AdamW, Epoch 16/50, Accuracy: 81.46\n",
      "Optimizer: AdamW, Epoch 17/50, Accuracy: 81.46\n",
      "Optimizer: AdamW, Epoch 18/50, Accuracy: 81.46\n",
      "Optimizer: AdamW, Epoch 19/50, Accuracy: 81.46\n",
      "Optimizer: AdamW, Epoch 20/50, Accuracy: 81.46\n",
      "Optimizer: AdamW, Epoch 21/50, Accuracy: 81.46\n",
      "Optimizer: AdamW, Epoch 22/50, Accuracy: 81.46\n",
      "Optimizer: AdamW, Epoch 23/50, Accuracy: 81.46\n",
      "Optimizer: AdamW, Epoch 24/50, Accuracy: 81.46\n",
      "Optimizer: AdamW, Epoch 25/50, Accuracy: 81.46\n",
      "Optimizer: AdamW, Epoch 26/50, Accuracy: 81.46\n",
      "Optimizer: AdamW, Epoch 27/50, Accuracy: 81.46\n",
      "AdamW algorithms stopped training at epoch 26\n",
      "\n",
      "\n",
      "\n"
     ]
    }
   ],
   "source": [
    "# Iterate over different optimization algorithms\n",
    "for optimizer_name, optimizer in optimizers.items():\n",
    "    # Iterate over the specified number of epochs\n",
    "    for epoch in range(epochs):\n",
    "        # Set the network to training mode\n",
    "        net.train()\n",
    "        for inputs, labels in train_loader:\n",
    "            inputs = inputs.float()\n",
    "            labels = labels.float()\n",
    "            outputs = net(inputs) # Forward prop\n",
    "            loss = criterion(outputs, labels) # Loss calculation\n",
    "            optimizer.zero_grad() # Clear the gradient buffer\n",
    "            loss.backward() # Backprop\n",
    "            optimizer.step() # Update weights\n",
    "\n",
    "        # Set the network to evaluation mode\n",
    "        net.eval()\n",
    "        correct = 0\n",
    "        total = 0\n",
    "        # Disable gradient calculation\n",
    "        with torch.no_grad():\n",
    "            # Evaluate the trained model on the test dataset\n",
    "            for inputs, labels in test_loader:\n",
    "                inputs = inputs.float()\n",
    "                labels = labels.float()\n",
    "                outputs = net(inputs)\n",
    "\n",
    "                # Convert outputs to binary predictions\n",
    "                predicted = (outputs > 0.5).float()\n",
    "\n",
    "                # Calculate total and correct predictions\n",
    "                total += labels.size(0)\n",
    "                correct += (predicted == labels).sum().item()\n",
    "\n",
    "         # Calculate accuracy\n",
    "        accuracy = 100 * correct / total\n",
    "        # Store accuracy for the current optimizer\n",
    "        accuracies[optimizer_name].append(accuracy)\n",
    "\n",
    "        # Print statistics\n",
    "        print('Optimizer: {}, Epoch {}/{}, Accuracy: {:.2f}'.format(\n",
    "            optimizer_name, epoch + 1, epochs, accuracy))\n",
    "\n",
    "        # Check for best accuracy and early stopping\n",
    "        if accuracy > best_accuracy:\n",
    "            # Update best accuracy and epoch\n",
    "            best_accuracy = accuracy\n",
    "            best_epoch = epoch\n",
    "\n",
    "            # Save the model checkpoint\n",
    "            checkpoint(net, f\"best_epoch_{optimizer_name}.pth\")\n",
    "\n",
    "        # Stop training process if the accuracy doesn't improve\n",
    "        if epoch - best_epoch > early_stop_thresh:\n",
    "            print(f'{optimizer_name} algorithms stopped training at epoch %d' % epoch)\n",
    "            print('\\n\\n')\n",
    "            break\n"
   ]
  },
  {
   "cell_type": "markdown",
   "metadata": {
    "id": "cyI5eIhSd9EM"
   },
   "source": [
    "# Comparison of optimizer algorithms"
   ]
  },
  {
   "cell_type": "code",
   "execution_count": 19,
   "metadata": {
    "colab": {
     "base_uri": "https://localhost:8080/",
     "height": 564
    },
    "executionInfo": {
     "elapsed": 1011,
     "status": "ok",
     "timestamp": 1706519252854,
     "user": {
      "displayName": "Chi Duong Trong",
      "userId": "10378956912403884190"
     },
     "user_tz": -420
    },
    "id": "dwOjm0OvVYCq",
    "outputId": "85cece56-0f1d-4aca-a117-97d98b10b51c"
   },
   "outputs": [
    {
     "data": {
      "image/png": "[encoded data removed]",
      "text/plain": [
       "<Figure size 1000x600 with 1 Axes>"
      ]
     },
     "metadata": {},
     "output_type": "display_data"
    }
   ],
   "source": [
    "# Accuracy Plot\n",
    "plt.figure(figsize=(10, 6))\n",
    "for optimizer_name, accuracy_list in accuracies.items():\n",
    "    plt.plot(range(1, len(accuracy_list) + 1), accuracy_list, label=optimizer_name)\n",
    "\n",
    "plt.title('Accuracy vs. Epoch for Different Optimizers')\n",
    "plt.xlabel('Epoch')\n",
    "plt.ylabel('Accuracy (%)')\n",
    "plt.legend()\n",
    "plt.grid(True)\n",
    "plt.show()\n",
    "\n"
   ]
  },
  {
   "cell_type": "code",
   "execution_count": null,
   "metadata": {},
   "outputs": [],
   "source": []
  }
 ],
 "metadata": {
  "colab": {
   "authorship_tag": "ABX9TyO+EZ49UZc4IlgBIcwbVx7b",
   "provenance": []
  },
  "kernelspec": {
   "display_name": "Python 3 (ipykernel)",
   "language": "python",
   "name": "python3"
  },
  "language_info": {
   "codemirror_mode": {
    "name": "ipython",
    "version": 3
   },
   "file_extension": ".py",
   "mimetype": "text/x-python",
   "name": "python",
   "nbconvert_exporter": "python",
   "pygments_lexer": "ipython3",
   "version": "3.11.4"
  }
 },
 "nbformat": 4,
 "nbformat_minor": 1
}
