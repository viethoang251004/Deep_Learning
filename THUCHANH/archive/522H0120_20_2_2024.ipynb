{
  "nbformat": 4,
  "nbformat_minor": 0,
  "metadata": {
    "colab": {
      "provenance": []
    },
    "kernelspec": {
      "name": "python3",
      "display_name": "Python 3"
    },
    "language_info": {
      "name": "python"
    }
  },
  "cells": [
    {
      "cell_type": "code",
      "execution_count": null,
      "metadata": {
        "id": "UVp576smBVZo"
      },
      "outputs": [],
      "source": [
        "import torch\n",
        "import torch.nn as nn\n",
        "from torch.utils.data import Dataset\n",
        "\n",
        "\n",
        "import numpy as np\n",
        "import pandas as pd\n",
        "import matplotlib.pyplot as plt\n",
        "\n",
        "\n",
        "from sklearn.preprocessing import StandardScaler\n",
        "from sklearn.model_selection import train_test_split"
      ]
    },
    {
      "cell_type": "code",
      "source": [
        "!pip install torch"
      ],
      "metadata": {
        "colab": {
          "base_uri": "https://localhost:8080/"
        },
        "id": "4UveL033XL6S",
        "outputId": "62293951-65a1-4f8c-a59e-43c6152c27cb"
      },
      "execution_count": null,
      "outputs": [
        {
          "output_type": "stream",
          "name": "stdout",
          "text": [
            "Requirement already satisfied: torch in /usr/local/lib/python3.10/dist-packages (2.1.0+cu121)\n",
            "Requirement already satisfied: filelock in /usr/local/lib/python3.10/dist-packages (from torch) (3.13.1)\n",
            "Requirement already satisfied: typing-extensions in /usr/local/lib/python3.10/dist-packages (from torch) (4.9.0)\n",
            "Requirement already satisfied: sympy in /usr/local/lib/python3.10/dist-packages (from torch) (1.12)\n",
            "Requirement already satisfied: networkx in /usr/local/lib/python3.10/dist-packages (from torch) (3.2.1)\n",
            "Requirement already satisfied: jinja2 in /usr/local/lib/python3.10/dist-packages (from torch) (3.1.3)\n",
            "Requirement already satisfied: fsspec in /usr/local/lib/python3.10/dist-packages (from torch) (2023.6.0)\n",
            "Requirement already satisfied: triton==2.1.0 in /usr/local/lib/python3.10/dist-packages (from torch) (2.1.0)\n",
            "Requirement already satisfied: MarkupSafe>=2.0 in /usr/local/lib/python3.10/dist-packages (from jinja2->torch) (2.1.5)\n",
            "Requirement already satisfied: mpmath>=0.19 in /usr/local/lib/python3.10/dist-packages (from sympy->torch) (1.3.0)\n"
          ]
        }
      ]
    },
    {
      "cell_type": "markdown",
      "source": [
        "# Load file"
      ],
      "metadata": {
        "id": "65d36brwXbLD"
      }
    },
    {
      "cell_type": "code",
      "source": [
        "df = pd.read_csv('stroke_prediction.csv')\n",
        "df.tail(15)"
      ],
      "metadata": {
        "colab": {
          "base_uri": "https://localhost:8080/",
          "height": 540
        },
        "id": "_6wzrlyKXLz_",
        "outputId": "bfc95260-f062-4bd6-8fd3-723b679cecd6"
      },
      "execution_count": null,
      "outputs": [
        {
          "output_type": "execute_result",
          "data": {
            "text/plain": [
              "         id  gender    age  hypertension  heart_disease ever_married  \\\n",
              "5197  38132  Female  13.00             0              0           No   \n",
              "5198  50136  Female  54.00             1              0          Yes   \n",
              "5199   3094    Male  28.00             0              0           No   \n",
              "5200  42727  Female  61.00             0              0          Yes   \n",
              "5201  41500    Male   0.16             0              0           No   \n",
              "5202  33185    Male  59.00             0              0           No   \n",
              "5203   7057    Male  12.00             0              0           No   \n",
              "5204  48244  Female  38.00             0              0           No   \n",
              "5205  69559    Male  15.00             0              0           No   \n",
              "5206  61757    Male  31.00             0              0          Yes   \n",
              "5207  10541    Male  52.00             1              0          Yes   \n",
              "5208  48169  Female  61.00             0              0          Yes   \n",
              "5209  64202    Male  50.00             0              0          Yes   \n",
              "5210   7069  Female  41.00             0              0          Yes   \n",
              "5211  52050    Male  20.00             0              0           No   \n",
              "\n",
              "          work_type Residence_type  avg_glucose_level   bmi   smoking_status  \\\n",
              "5197        Private          Rural             172.27  16.6     never smoked   \n",
              "5198        Private          Urban             221.83  35.1           smokes   \n",
              "5199        Private          Urban              74.61  32.7          Unknown   \n",
              "5200        Private          Rural              60.91  29.8          Unknown   \n",
              "5201       children          Rural              69.79  13.0          Unknown   \n",
              "5202       Govt_job          Urban              83.60  27.5  formerly smoked   \n",
              "5203       children          Urban              83.95  23.6          Unknown   \n",
              "5204        Private          Rural              77.50  36.9           smokes   \n",
              "5205   Never_worked          Urban              64.29  16.7          Unknown   \n",
              "5206  Self-employed          Rural              61.10  26.5     never smoked   \n",
              "5207        Private          Rural             100.71  37.0     never smoked   \n",
              "5208  Self-employed          Urban              65.21  27.7          Unknown   \n",
              "5209        Private          Rural             119.77  23.5          Unknown   \n",
              "5210        Private          Rural             102.39  40.4  formerly smoked   \n",
              "5211        Private          Urban              59.67  27.7     never smoked   \n",
              "\n",
              "      stroke  \n",
              "5197       0  \n",
              "5198       0  \n",
              "5199       0  \n",
              "5200       0  \n",
              "5201       0  \n",
              "5202       0  \n",
              "5203       0  \n",
              "5204       0  \n",
              "5205       0  \n",
              "5206       0  \n",
              "5207       0  \n",
              "5208       0  \n",
              "5209       0  \n",
              "5210       0  \n",
              "5211       0  "
            ],
            "text/html": [
              "\n",
              "  <div id=\"df-7d718df1-c032-4f52-8cf5-6eeeeef89ac4\" class=\"colab-df-container\">\n",
              "    <div>\n",
              "<style scoped>\n",
              "    .dataframe tbody tr th:only-of-type {\n",
              "        vertical-align: middle;\n",
              "    }\n",
              "\n",
              "    .dataframe tbody tr th {\n",
              "        vertical-align: top;\n",
              "    }\n",
              "\n",
              "    .dataframe thead th {\n",
              "        text-align: right;\n",
              "    }\n",
              "</style>\n",
              "<table border=\"1\" class=\"dataframe\">\n",
              "  <thead>\n",
              "    <tr style=\"text-align: right;\">\n",
              "      <th></th>\n",
              "      <th>id</th>\n",
              "      <th>gender</th>\n",
              "      <th>age</th>\n",
              "      <th>hypertension</th>\n",
              "      <th>heart_disease</th>\n",
              "      <th>ever_married</th>\n",
              "      <th>work_type</th>\n",
              "      <th>Residence_type</th>\n",
              "      <th>avg_glucose_level</th>\n",
              "      <th>bmi</th>\n",
              "      <th>smoking_status</th>\n",
              "      <th>stroke</th>\n",
              "    </tr>\n",
              "  </thead>\n",
              "  <tbody>\n",
              "    <tr>\n",
              "      <th>5197</th>\n",
              "      <td>38132</td>\n",
              "      <td>Female</td>\n",
              "      <td>13.00</td>\n",
              "      <td>0</td>\n",
              "      <td>0</td>\n",
              "      <td>No</td>\n",
              "      <td>Private</td>\n",
              "      <td>Rural</td>\n",
              "      <td>172.27</td>\n",
              "      <td>16.6</td>\n",
              "      <td>never smoked</td>\n",
              "      <td>0</td>\n",
              "    </tr>\n",
              "    <tr>\n",
              "      <th>5198</th>\n",
              "      <td>50136</td>\n",
              "      <td>Female</td>\n",
              "      <td>54.00</td>\n",
              "      <td>1</td>\n",
              "      <td>0</td>\n",
              "      <td>Yes</td>\n",
              "      <td>Private</td>\n",
              "      <td>Urban</td>\n",
              "      <td>221.83</td>\n",
              "      <td>35.1</td>\n",
              "      <td>smokes</td>\n",
              "      <td>0</td>\n",
              "    </tr>\n",
              "    <tr>\n",
              "      <th>5199</th>\n",
              "      <td>3094</td>\n",
              "      <td>Male</td>\n",
              "      <td>28.00</td>\n",
              "      <td>0</td>\n",
              "      <td>0</td>\n",
              "      <td>No</td>\n",
              "      <td>Private</td>\n",
              "      <td>Urban</td>\n",
              "      <td>74.61</td>\n",
              "      <td>32.7</td>\n",
              "      <td>Unknown</td>\n",
              "      <td>0</td>\n",
              "    </tr>\n",
              "    <tr>\n",
              "      <th>5200</th>\n",
              "      <td>42727</td>\n",
              "      <td>Female</td>\n",
              "      <td>61.00</td>\n",
              "      <td>0</td>\n",
              "      <td>0</td>\n",
              "      <td>Yes</td>\n",
              "      <td>Private</td>\n",
              "      <td>Rural</td>\n",
              "      <td>60.91</td>\n",
              "      <td>29.8</td>\n",
              "      <td>Unknown</td>\n",
              "      <td>0</td>\n",
              "    </tr>\n",
              "    <tr>\n",
              "      <th>5201</th>\n",
              "      <td>41500</td>\n",
              "      <td>Male</td>\n",
              "      <td>0.16</td>\n",
              "      <td>0</td>\n",
              "      <td>0</td>\n",
              "      <td>No</td>\n",
              "      <td>children</td>\n",
              "      <td>Rural</td>\n",
              "      <td>69.79</td>\n",
              "      <td>13.0</td>\n",
              "      <td>Unknown</td>\n",
              "      <td>0</td>\n",
              "    </tr>\n",
              "    <tr>\n",
              "      <th>5202</th>\n",
              "      <td>33185</td>\n",
              "      <td>Male</td>\n",
              "      <td>59.00</td>\n",
              "      <td>0</td>\n",
              "      <td>0</td>\n",
              "      <td>No</td>\n",
              "      <td>Govt_job</td>\n",
              "      <td>Urban</td>\n",
              "      <td>83.60</td>\n",
              "      <td>27.5</td>\n",
              "      <td>formerly smoked</td>\n",
              "      <td>0</td>\n",
              "    </tr>\n",
              "    <tr>\n",
              "      <th>5203</th>\n",
              "      <td>7057</td>\n",
              "      <td>Male</td>\n",
              "      <td>12.00</td>\n",
              "      <td>0</td>\n",
              "      <td>0</td>\n",
              "      <td>No</td>\n",
              "      <td>children</td>\n",
              "      <td>Urban</td>\n",
              "      <td>83.95</td>\n",
              "      <td>23.6</td>\n",
              "      <td>Unknown</td>\n",
              "      <td>0</td>\n",
              "    </tr>\n",
              "    <tr>\n",
              "      <th>5204</th>\n",
              "      <td>48244</td>\n",
              "      <td>Female</td>\n",
              "      <td>38.00</td>\n",
              "      <td>0</td>\n",
              "      <td>0</td>\n",
              "      <td>No</td>\n",
              "      <td>Private</td>\n",
              "      <td>Rural</td>\n",
              "      <td>77.50</td>\n",
              "      <td>36.9</td>\n",
              "      <td>smokes</td>\n",
              "      <td>0</td>\n",
              "    </tr>\n",
              "    <tr>\n",
              "      <th>5205</th>\n",
              "      <td>69559</td>\n",
              "      <td>Male</td>\n",
              "      <td>15.00</td>\n",
              "      <td>0</td>\n",
              "      <td>0</td>\n",
              "      <td>No</td>\n",
              "      <td>Never_worked</td>\n",
              "      <td>Urban</td>\n",
              "      <td>64.29</td>\n",
              "      <td>16.7</td>\n",
              "      <td>Unknown</td>\n",
              "      <td>0</td>\n",
              "    </tr>\n",
              "    <tr>\n",
              "      <th>5206</th>\n",
              "      <td>61757</td>\n",
              "      <td>Male</td>\n",
              "      <td>31.00</td>\n",
              "      <td>0</td>\n",
              "      <td>0</td>\n",
              "      <td>Yes</td>\n",
              "      <td>Self-employed</td>\n",
              "      <td>Rural</td>\n",
              "      <td>61.10</td>\n",
              "      <td>26.5</td>\n",
              "      <td>never smoked</td>\n",
              "      <td>0</td>\n",
              "    </tr>\n",
              "    <tr>\n",
              "      <th>5207</th>\n",
              "      <td>10541</td>\n",
              "      <td>Male</td>\n",
              "      <td>52.00</td>\n",
              "      <td>1</td>\n",
              "      <td>0</td>\n",
              "      <td>Yes</td>\n",
              "      <td>Private</td>\n",
              "      <td>Rural</td>\n",
              "      <td>100.71</td>\n",
              "      <td>37.0</td>\n",
              "      <td>never smoked</td>\n",
              "      <td>0</td>\n",
              "    </tr>\n",
              "    <tr>\n",
              "      <th>5208</th>\n",
              "      <td>48169</td>\n",
              "      <td>Female</td>\n",
              "      <td>61.00</td>\n",
              "      <td>0</td>\n",
              "      <td>0</td>\n",
              "      <td>Yes</td>\n",
              "      <td>Self-employed</td>\n",
              "      <td>Urban</td>\n",
              "      <td>65.21</td>\n",
              "      <td>27.7</td>\n",
              "      <td>Unknown</td>\n",
              "      <td>0</td>\n",
              "    </tr>\n",
              "    <tr>\n",
              "      <th>5209</th>\n",
              "      <td>64202</td>\n",
              "      <td>Male</td>\n",
              "      <td>50.00</td>\n",
              "      <td>0</td>\n",
              "      <td>0</td>\n",
              "      <td>Yes</td>\n",
              "      <td>Private</td>\n",
              "      <td>Rural</td>\n",
              "      <td>119.77</td>\n",
              "      <td>23.5</td>\n",
              "      <td>Unknown</td>\n",
              "      <td>0</td>\n",
              "    </tr>\n",
              "    <tr>\n",
              "      <th>5210</th>\n",
              "      <td>7069</td>\n",
              "      <td>Female</td>\n",
              "      <td>41.00</td>\n",
              "      <td>0</td>\n",
              "      <td>0</td>\n",
              "      <td>Yes</td>\n",
              "      <td>Private</td>\n",
              "      <td>Rural</td>\n",
              "      <td>102.39</td>\n",
              "      <td>40.4</td>\n",
              "      <td>formerly smoked</td>\n",
              "      <td>0</td>\n",
              "    </tr>\n",
              "    <tr>\n",
              "      <th>5211</th>\n",
              "      <td>52050</td>\n",
              "      <td>Male</td>\n",
              "      <td>20.00</td>\n",
              "      <td>0</td>\n",
              "      <td>0</td>\n",
              "      <td>No</td>\n",
              "      <td>Private</td>\n",
              "      <td>Urban</td>\n",
              "      <td>59.67</td>\n",
              "      <td>27.7</td>\n",
              "      <td>never smoked</td>\n",
              "      <td>0</td>\n",
              "    </tr>\n",
              "  </tbody>\n",
              "</table>\n",
              "</div>\n",
              "    <div class=\"colab-df-buttons\">\n",
              "\n",
              "  <div class=\"colab-df-container\">\n",
              "    <button class=\"colab-df-convert\" onclick=\"convertToInteractive('df-7d718df1-c032-4f52-8cf5-6eeeeef89ac4')\"\n",
              "            title=\"Convert this dataframe to an interactive table.\"\n",
              "            style=\"display:none;\">\n",
              "\n",
              "  <svg xmlns=\"http://www.w3.org/2000/svg\" height=\"24px\" viewBox=\"0 -960 960 960\">\n",
              "    <path d=\"M120-120v-720h720v720H120Zm60-500h600v-160H180v160Zm220 220h160v-160H400v160Zm0 220h160v-160H400v160ZM180-400h160v-160H180v160Zm440 0h160v-160H620v160ZM180-180h160v-160H180v160Zm440 0h160v-160H620v160Z\"/>\n",
              "  </svg>\n",
              "    </button>\n",
              "\n",
              "  <style>\n",
              "    .colab-df-container {\n",
              "      display:flex;\n",
              "      gap: 12px;\n",
              "    }\n",
              "\n",
              "    .colab-df-convert {\n",
              "      background-color: #E8F0FE;\n",
              "      border: none;\n",
              "      border-radius: 50%;\n",
              "      cursor: pointer;\n",
              "      display: none;\n",
              "      fill: #1967D2;\n",
              "      height: 32px;\n",
              "      padding: 0 0 0 0;\n",
              "      width: 32px;\n",
              "    }\n",
              "\n",
              "    .colab-df-convert:hover {\n",
              "      background-color: #E2EBFA;\n",
              "      box-shadow: 0px 1px 2px rgba(60, 64, 67, 0.3), 0px 1px 3px 1px rgba(60, 64, 67, 0.15);\n",
              "      fill: #174EA6;\n",
              "    }\n",
              "\n",
              "    .colab-df-buttons div {\n",
              "      margin-bottom: 4px;\n",
              "    }\n",
              "\n",
              "    [theme=dark] .colab-df-convert {\n",
              "      background-color: #3B4455;\n",
              "      fill: #D2E3FC;\n",
              "    }\n",
              "\n",
              "    [theme=dark] .colab-df-convert:hover {\n",
              "      background-color: #434B5C;\n",
              "      box-shadow: 0px 1px 3px 1px rgba(0, 0, 0, 0.15);\n",
              "      filter: drop-shadow(0px 1px 2px rgba(0, 0, 0, 0.3));\n",
              "      fill: #FFFFFF;\n",
              "    }\n",
              "  </style>\n",
              "\n",
              "    <script>\n",
              "      const buttonEl =\n",
              "        document.querySelector('#df-7d718df1-c032-4f52-8cf5-6eeeeef89ac4 button.colab-df-convert');\n",
              "      buttonEl.style.display =\n",
              "        google.colab.kernel.accessAllowed ? 'block' : 'none';\n",
              "\n",
              "      async function convertToInteractive(key) {\n",
              "        const element = document.querySelector('#df-7d718df1-c032-4f52-8cf5-6eeeeef89ac4');\n",
              "        const dataTable =\n",
              "          await google.colab.kernel.invokeFunction('convertToInteractive',\n",
              "                                                    [key], {});\n",
              "        if (!dataTable) return;\n",
              "\n",
              "        const docLinkHtml = 'Like what you see? Visit the ' +\n",
              "          '<a target=\"_blank\" href=https://colab.research.google.com/notebooks/data_table.ipynb>data table notebook</a>'\n",
              "          + ' to learn more about interactive tables.';\n",
              "        element.innerHTML = '';\n",
              "        dataTable['output_type'] = 'display_data';\n",
              "        await google.colab.output.renderOutput(dataTable, element);\n",
              "        const docLink = document.createElement('div');\n",
              "        docLink.innerHTML = docLinkHtml;\n",
              "        element.appendChild(docLink);\n",
              "      }\n",
              "    </script>\n",
              "  </div>\n",
              "\n",
              "\n",
              "<div id=\"df-891e9479-3d3e-4e19-bea7-a0f12eb412f9\">\n",
              "  <button class=\"colab-df-quickchart\" onclick=\"quickchart('df-891e9479-3d3e-4e19-bea7-a0f12eb412f9')\"\n",
              "            title=\"Suggest charts\"\n",
              "            style=\"display:none;\">\n",
              "\n",
              "<svg xmlns=\"http://www.w3.org/2000/svg\" height=\"24px\"viewBox=\"0 0 24 24\"\n",
              "     width=\"24px\">\n",
              "    <g>\n",
              "        <path d=\"M19 3H5c-1.1 0-2 .9-2 2v14c0 1.1.9 2 2 2h14c1.1 0 2-.9 2-2V5c0-1.1-.9-2-2-2zM9 17H7v-7h2v7zm4 0h-2V7h2v10zm4 0h-2v-4h2v4z\"/>\n",
              "    </g>\n",
              "</svg>\n",
              "  </button>\n",
              "\n",
              "<style>\n",
              "  .colab-df-quickchart {\n",
              "      --bg-color: #E8F0FE;\n",
              "      --fill-color: #1967D2;\n",
              "      --hover-bg-color: #E2EBFA;\n",
              "      --hover-fill-color: #174EA6;\n",
              "      --disabled-fill-color: #AAA;\n",
              "      --disabled-bg-color: #DDD;\n",
              "  }\n",
              "\n",
              "  [theme=dark] .colab-df-quickchart {\n",
              "      --bg-color: #3B4455;\n",
              "      --fill-color: #D2E3FC;\n",
              "      --hover-bg-color: #434B5C;\n",
              "      --hover-fill-color: #FFFFFF;\n",
              "      --disabled-bg-color: #3B4455;\n",
              "      --disabled-fill-color: #666;\n",
              "  }\n",
              "\n",
              "  .colab-df-quickchart {\n",
              "    background-color: var(--bg-color);\n",
              "    border: none;\n",
              "    border-radius: 50%;\n",
              "    cursor: pointer;\n",
              "    display: none;\n",
              "    fill: var(--fill-color);\n",
              "    height: 32px;\n",
              "    padding: 0;\n",
              "    width: 32px;\n",
              "  }\n",
              "\n",
              "  .colab-df-quickchart:hover {\n",
              "    background-color: var(--hover-bg-color);\n",
              "    box-shadow: 0 1px 2px rgba(60, 64, 67, 0.3), 0 1px 3px 1px rgba(60, 64, 67, 0.15);\n",
              "    fill: var(--button-hover-fill-color);\n",
              "  }\n",
              "\n",
              "  .colab-df-quickchart-complete:disabled,\n",
              "  .colab-df-quickchart-complete:disabled:hover {\n",
              "    background-color: var(--disabled-bg-color);\n",
              "    fill: var(--disabled-fill-color);\n",
              "    box-shadow: none;\n",
              "  }\n",
              "\n",
              "  .colab-df-spinner {\n",
              "    border: 2px solid var(--fill-color);\n",
              "    border-color: transparent;\n",
              "    border-bottom-color: var(--fill-color);\n",
              "    animation:\n",
              "      spin 1s steps(1) infinite;\n",
              "  }\n",
              "\n",
              "  @keyframes spin {\n",
              "    0% {\n",
              "      border-color: transparent;\n",
              "      border-bottom-color: var(--fill-color);\n",
              "      border-left-color: var(--fill-color);\n",
              "    }\n",
              "    20% {\n",
              "      border-color: transparent;\n",
              "      border-left-color: var(--fill-color);\n",
              "      border-top-color: var(--fill-color);\n",
              "    }\n",
              "    30% {\n",
              "      border-color: transparent;\n",
              "      border-left-color: var(--fill-color);\n",
              "      border-top-color: var(--fill-color);\n",
              "      border-right-color: var(--fill-color);\n",
              "    }\n",
              "    40% {\n",
              "      border-color: transparent;\n",
              "      border-right-color: var(--fill-color);\n",
              "      border-top-color: var(--fill-color);\n",
              "    }\n",
              "    60% {\n",
              "      border-color: transparent;\n",
              "      border-right-color: var(--fill-color);\n",
              "    }\n",
              "    80% {\n",
              "      border-color: transparent;\n",
              "      border-right-color: var(--fill-color);\n",
              "      border-bottom-color: var(--fill-color);\n",
              "    }\n",
              "    90% {\n",
              "      border-color: transparent;\n",
              "      border-bottom-color: var(--fill-color);\n",
              "    }\n",
              "  }\n",
              "</style>\n",
              "\n",
              "  <script>\n",
              "    async function quickchart(key) {\n",
              "      const quickchartButtonEl =\n",
              "        document.querySelector('#' + key + ' button');\n",
              "      quickchartButtonEl.disabled = true;  // To prevent multiple clicks.\n",
              "      quickchartButtonEl.classList.add('colab-df-spinner');\n",
              "      try {\n",
              "        const charts = await google.colab.kernel.invokeFunction(\n",
              "            'suggestCharts', [key], {});\n",
              "      } catch (error) {\n",
              "        console.error('Error during call to suggestCharts:', error);\n",
              "      }\n",
              "      quickchartButtonEl.classList.remove('colab-df-spinner');\n",
              "      quickchartButtonEl.classList.add('colab-df-quickchart-complete');\n",
              "    }\n",
              "    (() => {\n",
              "      let quickchartButtonEl =\n",
              "        document.querySelector('#df-891e9479-3d3e-4e19-bea7-a0f12eb412f9 button');\n",
              "      quickchartButtonEl.style.display =\n",
              "        google.colab.kernel.accessAllowed ? 'block' : 'none';\n",
              "    })();\n",
              "  </script>\n",
              "</div>\n",
              "    </div>\n",
              "  </div>\n"
            ],
            "application/vnd.google.colaboratory.intrinsic+json": {
              "type": "dataframe",
              "summary": "{\n  \"name\": \"df\",\n  \"rows\": 15,\n  \"fields\": [\n    {\n      \"column\": \"id\",\n      \"properties\": {\n        \"dtype\": \"number\",\n        \"std\": 21942,\n        \"min\": 3094,\n        \"max\": 69559,\n        \"samples\": [\n          61757,\n          48169,\n          38132\n        ],\n        \"num_unique_values\": 15,\n        \"semantic_type\": \"\",\n        \"description\": \"\"\n      }\n    },\n    {\n      \"column\": \"gender\",\n      \"properties\": {\n        \"dtype\": \"category\",\n        \"samples\": [\n          \"Male\",\n          \"Female\"\n        ],\n        \"num_unique_values\": 2,\n        \"semantic_type\": \"\",\n        \"description\": \"\"\n      }\n    },\n    {\n      \"column\": \"age\",\n      \"properties\": {\n        \"dtype\": \"number\",\n        \"std\": 20.280081525148432,\n        \"min\": 0.16,\n        \"max\": 61.0,\n        \"samples\": [\n          31.0,\n          50.0\n        ],\n        \"num_unique_values\": 14,\n        \"semantic_type\": \"\",\n        \"description\": \"\"\n      }\n    },\n    {\n      \"column\": \"hypertension\",\n      \"properties\": {\n        \"dtype\": \"number\",\n        \"std\": 0,\n        \"min\": 0,\n        \"max\": 1,\n        \"samples\": [\n          1,\n          0\n        ],\n        \"num_unique_values\": 2,\n        \"semantic_type\": \"\",\n        \"description\": \"\"\n      }\n    },\n    {\n      \"column\": \"heart_disease\",\n      \"properties\": {\n        \"dtype\": \"number\",\n        \"std\": 0,\n        \"min\": 0,\n        \"max\": 0,\n        \"samples\": [\n          0\n        ],\n        \"num_unique_values\": 1,\n        \"semantic_type\": \"\",\n        \"description\": \"\"\n      }\n    },\n    {\n      \"column\": \"ever_married\",\n      \"properties\": {\n        \"dtype\": \"category\",\n        \"samples\": [\n          \"Yes\"\n        ],\n        \"num_unique_values\": 2,\n        \"semantic_type\": \"\",\n        \"description\": \"\"\n      }\n    },\n    {\n      \"column\": \"work_type\",\n      \"properties\": {\n        \"dtype\": \"category\",\n        \"samples\": [\n          \"children\"\n        ],\n        \"num_unique_values\": 5,\n        \"semantic_type\": \"\",\n        \"description\": \"\"\n      }\n    },\n    {\n      \"column\": \"Residence_type\",\n      \"properties\": {\n        \"dtype\": \"category\",\n        \"samples\": [\n          \"Urban\"\n        ],\n        \"num_unique_values\": 2,\n        \"semantic_type\": \"\",\n        \"description\": \"\"\n      }\n    },\n    {\n      \"column\": \"avg_glucose_level\",\n      \"properties\": {\n        \"dtype\": \"number\",\n        \"std\": 46.10029759226332,\n        \"min\": 59.67,\n        \"max\": 221.83,\n        \"samples\": [\n          61.1\n        ],\n        \"num_unique_values\": 15,\n        \"semantic_type\": \"\",\n        \"description\": \"\"\n      }\n    },\n    {\n      \"column\": \"bmi\",\n      \"properties\": {\n        \"dtype\": \"number\",\n        \"std\": 8.074551439701214,\n        \"min\": 13.0,\n        \"max\": 40.4,\n        \"samples\": [\n          26.5\n        ],\n        \"num_unique_values\": 14,\n        \"semantic_type\": \"\",\n        \"description\": \"\"\n      }\n    },\n    {\n      \"column\": \"smoking_status\",\n      \"properties\": {\n        \"dtype\": \"category\",\n        \"samples\": [\n          \"smokes\"\n        ],\n        \"num_unique_values\": 4,\n        \"semantic_type\": \"\",\n        \"description\": \"\"\n      }\n    },\n    {\n      \"column\": \"stroke\",\n      \"properties\": {\n        \"dtype\": \"number\",\n        \"std\": 0,\n        \"min\": 0,\n        \"max\": 0,\n        \"samples\": [\n          0\n        ],\n        \"num_unique_values\": 1,\n        \"semantic_type\": \"\",\n        \"description\": \"\"\n      }\n    }\n  ]\n}"
            }
          },
          "metadata": {},
          "execution_count": 3
        }
      ]
    },
    {
      "cell_type": "code",
      "source": [
        "print('Shape of Stroke Prediction DataFrame: ', df.shape)\n",
        "df.info()"
      ],
      "metadata": {
        "colab": {
          "base_uri": "https://localhost:8080/"
        },
        "id": "DELK7wEAXqTp",
        "outputId": "6520126b-e9a5-4940-9057-d4669edbff27"
      },
      "execution_count": null,
      "outputs": [
        {
          "output_type": "stream",
          "name": "stdout",
          "text": [
            "Shape of Stroke Prediction DataFrame:  (5212, 12)\n",
            "<class 'pandas.core.frame.DataFrame'>\n",
            "RangeIndex: 5212 entries, 0 to 5211\n",
            "Data columns (total 12 columns):\n",
            " #   Column             Non-Null Count  Dtype  \n",
            "---  ------             --------------  -----  \n",
            " 0   id                 5212 non-null   int64  \n",
            " 1   gender             5212 non-null   object \n",
            " 2   age                5212 non-null   float64\n",
            " 3   hypertension       5212 non-null   int64  \n",
            " 4   heart_disease      5212 non-null   int64  \n",
            " 5   ever_married       5212 non-null   object \n",
            " 6   work_type          5212 non-null   object \n",
            " 7   Residence_type     5212 non-null   object \n",
            " 8   avg_glucose_level  5212 non-null   float64\n",
            " 9   bmi                5007 non-null   float64\n",
            " 10  smoking_status     5212 non-null   object \n",
            " 11  stroke             5212 non-null   int64  \n",
            "dtypes: float64(3), int64(4), object(5)\n",
            "memory usage: 488.8+ KB\n"
          ]
        }
      ]
    },
    {
      "cell_type": "code",
      "source": [
        "#handling missing and duplicate values\n",
        "df['bmi'] = df['bmi'].fillna(df[\"bmi\"].median())\n",
        "df.drop_duplicates(inplace= True)"
      ],
      "metadata": {
        "id": "Dnn9m0T-Yge9"
      },
      "execution_count": null,
      "outputs": []
    },
    {
      "cell_type": "code",
      "source": [
        "print(df.isnull().sum())\n",
        "print(df.duplicated().sum())"
      ],
      "metadata": {
        "colab": {
          "base_uri": "https://localhost:8080/"
        },
        "id": "Hqlr3LgLYk5R",
        "outputId": "75772ad3-4336-4710-fa25-2c9ead75c6de"
      },
      "execution_count": null,
      "outputs": [
        {
          "output_type": "stream",
          "name": "stdout",
          "text": [
            "id                   0\n",
            "gender               0\n",
            "age                  0\n",
            "hypertension         0\n",
            "heart_disease        0\n",
            "ever_married         0\n",
            "work_type            0\n",
            "Residence_type       0\n",
            "avg_glucose_level    0\n",
            "bmi                  0\n",
            "smoking_status       0\n",
            "stroke               0\n",
            "dtype: int64\n",
            "0\n"
          ]
        }
      ]
    },
    {
      "cell_type": "code",
      "source": [
        "#Split categorical and numerical feature\n",
        "column_names = df.columns\n",
        "cats = []\n",
        "nums = []\n",
        "for i in column_names:\n",
        "     if df[i].dtypes == 'object':\n",
        "          cats.append(i)\n",
        "     else:\n",
        "          nums.append(i)\n",
        "print(cats)\n",
        "print(nums)"
      ],
      "metadata": {
        "colab": {
          "base_uri": "https://localhost:8080/"
        },
        "id": "DwPTgJonYn2G",
        "outputId": "c089e3df-ec6f-42a9-ae0c-b28e2af90ffe"
      },
      "execution_count": null,
      "outputs": [
        {
          "output_type": "stream",
          "name": "stdout",
          "text": [
            "['gender', 'ever_married', 'work_type', 'Residence_type', 'smoking_status']\n",
            "['id', 'age', 'hypertension', 'heart_disease', 'avg_glucose_level', 'bmi', 'stroke']\n"
          ]
        }
      ]
    },
    {
      "cell_type": "code",
      "source": [
        "from sklearn.preprocessing import LabelEncoder\n",
        "#Encoder the categorical features\n",
        "le = LabelEncoder()\n",
        "for i in cats:\n",
        "     if df[i].dtypes == 'object':\n",
        "          df[i] = le.fit_transform(df[i])\n",
        "print(df.dtypes)"
      ],
      "metadata": {
        "colab": {
          "base_uri": "https://localhost:8080/"
        },
        "id": "ZzGH6_0DYOv6",
        "outputId": "63b525fe-a00e-4769-cc26-42d92cdc1a63"
      },
      "execution_count": null,
      "outputs": [
        {
          "output_type": "stream",
          "name": "stdout",
          "text": [
            "id                     int64\n",
            "gender                 int64\n",
            "age                  float64\n",
            "hypertension           int64\n",
            "heart_disease          int64\n",
            "ever_married           int64\n",
            "work_type              int64\n",
            "Residence_type         int64\n",
            "avg_glucose_level    float64\n",
            "bmi                  float64\n",
            "smoking_status         int64\n",
            "stroke                 int64\n",
            "dtype: object\n"
          ]
        }
      ]
    },
    {
      "cell_type": "code",
      "source": [
        "#Split feature and target\n",
        "X = df.drop('stroke', axis= 1)\n",
        "y = df['stroke']"
      ],
      "metadata": {
        "id": "Ymrv03KGY3hs"
      },
      "execution_count": null,
      "outputs": []
    },
    {
      "cell_type": "code",
      "source": [
        "X = df.iloc[:, 0:-1].values\n",
        "y = list(df.iloc[:, -1])"
      ],
      "metadata": {
        "id": "UVz1l9M1aURX"
      },
      "execution_count": null,
      "outputs": []
    },
    {
      "cell_type": "code",
      "source": [
        "#Data scaling\n",
        "scaler = StandardScaler()\n",
        "X = scaler.fit_transform(X)"
      ],
      "metadata": {
        "id": "Hn-oAnyzZC50"
      },
      "execution_count": null,
      "outputs": []
    },
    {
      "cell_type": "code",
      "source": [
        "#Split train and test set\n",
        "X_train , X_test , y_train , y_test = train_test_split(X, y, test_size = .20)"
      ],
      "metadata": {
        "id": "Im_DejtFZE4Y"
      },
      "execution_count": null,
      "outputs": []
    },
    {
      "cell_type": "code",
      "source": [
        "target_counts = df['stroke'].value_counts()\n",
        "\n",
        "plt.figure(figsize=(10, 8))\n",
        "plt.pie(target_counts, labels=target_counts.index, autopct='%1.1f%%', startangle=140)\n",
        "plt.title('Distribution of Stroke')\n",
        "plt.axis('equal')\n",
        "plt.show()"
      ],
      "metadata": {
        "colab": {
          "base_uri": "https://localhost:8080/",
          "height": 675
        },
        "id": "7ZAkkduZYB4A",
        "outputId": "41e0b075-ef1f-49b5-a4fb-fea4a1fb84b7"
      },
      "execution_count": null,
      "outputs": [
        {
          "output_type": "display_data",
          "data": {
            "text/plain": [
              "<Figure size 1000x800 with 1 Axes>"
            ],
            "image/png": "[encoded data removed]"
          },
          "metadata": {}
        }
      ]
    },
    {
      "cell_type": "code",
      "source": [
        "from imblearn.over_sampling import SMOTE\n",
        "smote = SMOTE(random_state = 42)\n",
        "\n",
        "X_train, y_train = smote.fit_resample(X_train, y_train)"
      ],
      "metadata": {
        "id": "fQlbbwVdYJ6p"
      },
      "execution_count": null,
      "outputs": []
    },
    {
      "cell_type": "markdown",
      "source": [
        "# Pytorch\n"
      ],
      "metadata": {
        "id": "snJr8iLuZN_G"
      }
    },
    {
      "cell_type": "code",
      "source": [
        "# Convert the data to PyTorch tensors\n",
        "X_train_tensor = torch.tensor(X_train, dtype=torch.float32)\n",
        "y_train_tensor = torch.tensor(y_train, dtype=torch.long).unsqueeze(1)\n",
        "X_test_tensor = torch.tensor(X_test, dtype=torch.float32)\n",
        "y_test_tensor = torch.tensor(y_test, dtype=torch.long).unsqueeze(1)"
      ],
      "metadata": {
        "id": "hzYpBCD6ZRTb"
      },
      "execution_count": null,
      "outputs": []
    },
    {
      "cell_type": "code",
      "source": [
        "class Dataset(Dataset):\n",
        "    def __init__(self, x, y):\n",
        "        self.x = x\n",
        "        self.y = y\n",
        "\n",
        "    # get item for each index\n",
        "    def __getitem__(self, index):\n",
        "        return self.x[index], self.y[index]\n",
        "\n",
        "    # get len of dataset\n",
        "    def __len__(self):\n",
        "        return len(self.x)"
      ],
      "metadata": {
        "id": "4uSyuu2Vakx9"
      },
      "execution_count": null,
      "outputs": []
    },
    {
      "cell_type": "code",
      "source": [
        "train_ds = Dataset(X_train_tensor, y_train_tensor)\n",
        "test_ds = Dataset(X_test_tensor, y_test_tensor)"
      ],
      "metadata": {
        "id": "yQULxXqHamgo"
      },
      "execution_count": null,
      "outputs": []
    },
    {
      "cell_type": "code",
      "source": [
        "# Load data to dataloader for batch processing\n",
        "train_loader = torch.utils.data.DataLoader(train_ds, batch_size=32, shuffle=True)\n",
        "test_loader = torch.utils.data.DataLoader(test_ds, batch_size=32, shuffle=True)"
      ],
      "metadata": {
        "id": "qYoifXsfaopG"
      },
      "execution_count": null,
      "outputs": []
    },
    {
      "cell_type": "markdown",
      "source": [
        "# Build NN"
      ],
      "metadata": {
        "id": "RHRLgKtdapxY"
      }
    },
    {
      "cell_type": "code",
      "source": [
        "class Model(nn.Module):\n",
        "    def __init__(self, input_features, output_features):\n",
        "        super(Model, self).__init__()\n",
        "        self.fc1 = nn.Linear(input_features, 10)\n",
        "        self.fc2 = nn.Linear(10, 20)\n",
        "        self.fc3 = nn.Linear(20, 8)\n",
        "        self.fc4 = nn.Linear(8, output_features)\n",
        "        self.tanh = nn.Tanh()\n",
        "        self.relu = nn.ReLU()\n",
        "\n",
        "    def forward(self, x):\n",
        "        out = self.fc1(x)\n",
        "        out = self.relu(out)\n",
        "        out = self.fc2(out)\n",
        "        out = self.relu(out)\n",
        "        out = self.fc3(out)\n",
        "        out = self.relu(out)\n",
        "        out = self.fc4(out)\n",
        "        return out"
      ],
      "metadata": {
        "id": "NZArplc4arLV"
      },
      "execution_count": null,
      "outputs": []
    },
    {
      "cell_type": "code",
      "source": [
        "# Create neural network object\n",
        "net = Model(input_features = 11, output_features = 1)\n",
        "\n",
        "# print network architecture\n",
        "print(net)"
      ],
      "metadata": {
        "colab": {
          "base_uri": "https://localhost:8080/"
        },
        "id": "VCnLs4UxazQd",
        "outputId": "8f017f0b-3406-4ccd-da06-eb05d9d69b3e"
      },
      "execution_count": null,
      "outputs": [
        {
          "output_type": "stream",
          "name": "stdout",
          "text": [
            "Model(\n",
            "  (fc1): Linear(in_features=11, out_features=10, bias=True)\n",
            "  (fc2): Linear(in_features=10, out_features=20, bias=True)\n",
            "  (fc3): Linear(in_features=20, out_features=8, bias=True)\n",
            "  (fc4): Linear(in_features=8, out_features=1, bias=True)\n",
            "  (tanh): Tanh()\n",
            "  (relu): ReLU()\n",
            ")\n"
          ]
        }
      ]
    },
    {
      "cell_type": "code",
      "source": [
        "def checkpoint(model, filename):\n",
        "    torch.save(model.state_dict(), filename)"
      ],
      "metadata": {
        "id": "JGEzcveca_Ap"
      },
      "execution_count": null,
      "outputs": []
    },
    {
      "cell_type": "code",
      "source": [
        "# Define binary class entropy (in and output should have same shape)\n",
        "#criterion = torch.nn.BCELoss(size_average=True)\n",
        "criterion = nn.MSELoss()\n",
        "\n",
        "# Define optimizers\n",
        "optimizers = {\n",
        "    \"SGD\": torch.optim.SGD(net.parameters(), lr=0.1, momentum=0.9, weight_decay=1e-5),\n",
        "    \"Adam\": torch.optim.Adam(net.parameters(), lr=0.1, weight_decay=1e-5),\n",
        "    \"RMSprop\": torch.optim.RMSprop(net.parameters(), lr=0.1, weight_decay=1e-5),\n",
        "    \"AdamW\": torch.optim.AdamW(net.parameters(), lr=0.1, weight_decay=1e-5),\n",
        "}\n",
        "\n",
        "# optimizers = {\n",
        "#     \"SGD\": torch.optim.SGD(net.parameters(), lr=1e-5),\n",
        "#     \"Adam\": torch.optim.Adam(net.parameters(),  weight_decay=1e-5),\n",
        "#     \"RMSprop\": torch.optim.RMSprop(net.parameters(),  weight_decay=1e-5),\n",
        "#     \"AdamW\": torch.optim.AdamW(net.parameters(),  weight_decay=1e-5),\n",
        "# }\n",
        "\n",
        "epochs = 50\n",
        "early_stop_thresh = 5\n",
        "best_loss = float('inf')\n",
        "best_epoch = -1\n",
        "# accuracies = {optimizer_name: [] for optimizer_name in optimizers}\n",
        "losses = {optimizer_name: [] for optimizer_name in optimizers}"
      ],
      "metadata": {
        "id": "Qr7fMfIKbA_9"
      },
      "execution_count": null,
      "outputs": []
    },
    {
      "cell_type": "code",
      "source": [
        "# Iterate over different optimization algorithms\n",
        "for optimizer_name, optimizer in optimizers.items():\n",
        "    # Iterate over the specified number of epochs\n",
        "    for epoch in range(epochs):\n",
        "        # Set the network to training mode\n",
        "        net.train()\n",
        "        for inputs, labels in train_loader:\n",
        "            inputs = inputs.float()\n",
        "            labels = labels.float()\n",
        "            outputs = net(inputs) # Forward prop\n",
        "            loss = criterion(outputs, labels) # Loss calculation\n",
        "            optimizer.zero_grad() # Clear the gradient buffer\n",
        "            loss.backward() # Backprop\n",
        "            optimizer.step() # Update weights\n",
        "\n",
        "        # Set the network to evaluation mode\n",
        "        net.eval()\n",
        "        correct = 0\n",
        "        total = 0\n",
        "        # Disable gradient calculation\n",
        "        with torch.no_grad():\n",
        "            # Evaluate the trained model on the test dataset\n",
        "            for inputs, labels in test_loader:\n",
        "                inputs = inputs.float()\n",
        "                labels = labels.float()\n",
        "                outputs = net(inputs)\n",
        "\n",
        "                # Convert outputs to binary predictions\n",
        "                predicted = (outputs > 0.5).float()\n",
        "\n",
        "                # Calculate total and correct predictions\n",
        "                total += labels.size(0)\n",
        "                correct += (predicted == labels).sum().item()\n",
        "\n",
        "         # Calculate accuracy\n",
        "        accuracy = 100 * correct / total\n",
        "        # Store accuracy for the current optimizer\n",
        "        accuracies[optimizer_name].append(accuracy)\n",
        "\n",
        "        # Print statistics\n",
        "        print('Optimizer: {}, Epoch {}/{}, Accuracy: {:.2f}'.format(\n",
        "            optimizer_name, epoch + 1, epochs, accuracy))\n",
        "\n",
        "        # Check for best accuracy and early stopping\n",
        "        if accuracy > best_accuracy:\n",
        "            # Update best accuracy and epoch\n",
        "            best_accuracy = accuracy\n",
        "            best_epoch = epoch\n",
        "\n",
        "            # Save the model checkpoint\n",
        "            checkpoint(net, f\"best_epoch_{optimizer_name}.pth\")\n",
        "\n",
        "        # Stop training process if the accuracy doesn't improve\n",
        "        if epoch - best_epoch > early_stop_thresh:\n",
        "            print(f'{optimizer_name} algorithms stopped training at epoch %d' % epoch)\n",
        "            print('\\n\\n')\n",
        "            break\n"
      ],
      "metadata": {
        "colab": {
          "base_uri": "https://localhost:8080/"
        },
        "id": "I1TmZQ4fbE8o",
        "outputId": "12d33a2d-89bb-4516-d8c8-31371c1112a0"
      },
      "execution_count": null,
      "outputs": [
        {
          "output_type": "stream",
          "name": "stdout",
          "text": [
            "Optimizer: SGD, Epoch 1/50, Accuracy: 78.08\n",
            "Optimizer: SGD, Epoch 2/50, Accuracy: 83.37\n",
            "Optimizer: SGD, Epoch 3/50, Accuracy: 77.59\n",
            "Optimizer: SGD, Epoch 4/50, Accuracy: 67.42\n",
            "Optimizer: SGD, Epoch 5/50, Accuracy: 73.48\n",
            "Optimizer: SGD, Epoch 6/50, Accuracy: 82.29\n",
            "SGD algorithms stopped training at epoch 5\n",
            "\n",
            "\n",
            "\n",
            "Optimizer: Adam, Epoch 1/50, Accuracy: 65.26\n",
            "Optimizer: Adam, Epoch 2/50, Accuracy: 75.93\n",
            "Optimizer: Adam, Epoch 3/50, Accuracy: 66.63\n",
            "Optimizer: Adam, Epoch 4/50, Accuracy: 72.21\n",
            "Optimizer: Adam, Epoch 5/50, Accuracy: 57.63\n",
            "Optimizer: Adam, Epoch 6/50, Accuracy: 61.94\n",
            "Adam algorithms stopped training at epoch 5\n",
            "\n",
            "\n",
            "\n",
            "Optimizer: RMSprop, Epoch 1/50, Accuracy: 42.17\n",
            "Optimizer: RMSprop, Epoch 2/50, Accuracy: 67.71\n",
            "Optimizer: RMSprop, Epoch 3/50, Accuracy: 69.37\n",
            "Optimizer: RMSprop, Epoch 4/50, Accuracy: 77.50\n",
            "Optimizer: RMSprop, Epoch 5/50, Accuracy: 68.20\n",
            "Optimizer: RMSprop, Epoch 6/50, Accuracy: 83.86\n",
            "RMSprop algorithms stopped training at epoch 5\n",
            "\n",
            "\n",
            "\n",
            "Optimizer: AdamW, Epoch 1/50, Accuracy: 68.59\n",
            "Optimizer: AdamW, Epoch 2/50, Accuracy: 75.83\n",
            "Optimizer: AdamW, Epoch 3/50, Accuracy: 69.28\n",
            "Optimizer: AdamW, Epoch 4/50, Accuracy: 69.67\n",
            "Optimizer: AdamW, Epoch 5/50, Accuracy: 68.69\n",
            "Optimizer: AdamW, Epoch 6/50, Accuracy: 70.94\n",
            "AdamW algorithms stopped training at epoch 5\n",
            "\n",
            "\n",
            "\n"
          ]
        }
      ]
    },
    {
      "cell_type": "code",
      "source": [
        "# Accuracy Plot\n",
        "plt.figure(figsize=(10, 6))\n",
        "for optimizer_name, accuracy_list in accuracies.items():\n",
        "    plt.plot(range(1, len(accuracy_list) + 1), accuracy_list, label=optimizer_name)\n",
        "\n",
        "plt.title('Accuracy vs. Epoch for Different Optimizers')\n",
        "plt.xlabel('Epoch')\n",
        "plt.ylabel('Accuracy (%)')\n",
        "plt.legend()\n",
        "plt.grid(True)\n",
        "plt.show()"
      ],
      "metadata": {
        "colab": {
          "base_uri": "https://localhost:8080/",
          "height": 564
        },
        "id": "8ZEfCugwcd7o",
        "outputId": "eb824c34-f2c4-42fb-b45d-3c47031f0523"
      },
      "execution_count": null,
      "outputs": [
        {
          "output_type": "display_data",
          "data": {
            "text/plain": [
              "<Figure size 1000x600 with 1 Axes>"
            ],
            "image/png": "[encoded data removed]"
          },
          "metadata": {}
        }
      ]
    }
  ]
}